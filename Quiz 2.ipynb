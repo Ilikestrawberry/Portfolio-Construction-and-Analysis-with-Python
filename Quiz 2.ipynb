{
 "cells": [
  {
   "cell_type": "code",
   "execution_count": 1,
   "id": "noble-macro",
   "metadata": {},
   "outputs": [
    {
     "data": {
      "text/plain": [
       "Index(['Convertible Arbitrage', 'CTA Global', 'Distressed Securities',\n",
       "       'Emerging Markets', 'Equity Market Neutral', 'Event Driven',\n",
       "       'Fixed Income Arbitrage', 'Global Macro', 'Long/Short Equity',\n",
       "       'Merger Arbitrage', 'Relative Value', 'Short Selling',\n",
       "       'Funds Of Funds'],\n",
       "      dtype='object')"
      ]
     },
     "execution_count": 1,
     "metadata": {},
     "output_type": "execute_result"
    }
   ],
   "source": [
    "import pandas as pd\n",
    "import numpy as np\n",
    "\n",
    "er = pd.read_csv(\"data/edhec-hedgefundindices.csv\", header=0,\n",
    "                index_col=0, parse_dates=True).to_period('M')\n",
    "er = er/100\n",
    "er.columns"
   ]
  },
  {
   "cell_type": "code",
   "execution_count": 2,
   "id": "weekly-milwaukee",
   "metadata": {},
   "outputs": [
    {
     "data": {
      "text/plain": [
       "date\n",
       "2000-01    0.0088\n",
       "2000-02    0.0421\n",
       "2000-03    0.0103\n",
       "2000-04   -0.0101\n",
       "2000-05   -0.0132\n",
       "            ...  \n",
       "2018-07    0.0093\n",
       "2018-08    0.0002\n",
       "2018-09    0.0050\n",
       "2018-10   -0.0158\n",
       "2018-11   -0.0193\n",
       "Freq: M, Name: Distressed Securities, Length: 227, dtype: float64"
      ]
     },
     "execution_count": 2,
     "metadata": {},
     "output_type": "execute_result"
    }
   ],
   "source": [
    "er1 = er[\"2000\":][\"Distressed Securities\"]\n",
    "er1"
   ]
  },
  {
   "cell_type": "code",
   "execution_count": 3,
   "id": "published-synthesis",
   "metadata": {},
   "outputs": [],
   "source": [
    "import edhec_risk_kit as erk"
   ]
  },
  {
   "cell_type": "markdown",
   "id": "smaller-program",
   "metadata": {},
   "source": [
    "## Q.1\n",
    "Use the EDHEC Hedge Fund Indices data set that we used in the lab assignment as well as in the previous week’s assignments. Load them into Python and perform the following analysis based on data since 2000 (including all of 2000): What was the Monthly Parametric Gaussian VaR at the 1% level (as a +ve number) of the Distressed Securities strategy?"
   ]
  },
  {
   "cell_type": "code",
   "execution_count": 4,
   "id": "existing-journal",
   "metadata": {
    "scrolled": true
   },
   "outputs": [
    {
     "data": {
      "text/plain": [
       "0.03143017693928047"
      ]
     },
     "execution_count": 4,
     "metadata": {},
     "output_type": "execute_result"
    }
   ],
   "source": [
    "erk.var_gaussian(er1, level=1)"
   ]
  },
  {
   "cell_type": "markdown",
   "id": "british-ordinance",
   "metadata": {},
   "source": [
    "## Q.2\n",
    "Use the same data set at the previous question. What was the 1% VaR for the same strategy after applying the Cornish-Fisher Adjustment?"
   ]
  },
  {
   "cell_type": "code",
   "execution_count": 5,
   "id": "binary-deviation",
   "metadata": {},
   "outputs": [
    {
     "data": {
      "text/plain": [
       "0.04966909110627918"
      ]
     },
     "execution_count": 5,
     "metadata": {},
     "output_type": "execute_result"
    }
   ],
   "source": [
    "erk.var_gaussian(er1, level=1, modified=True)"
   ]
  },
  {
   "cell_type": "markdown",
   "id": "formal-consensus",
   "metadata": {},
   "source": [
    "## Q.3\n",
    "Use the same dataset as the previous question. What was the Monthly Historic VaR at the 1% level (as a +ve number) of the Distressed Securities strategy?"
   ]
  },
  {
   "cell_type": "code",
   "execution_count": 6,
   "id": "contained-gazette",
   "metadata": {},
   "outputs": [
    {
     "data": {
      "text/plain": [
       "0.042642"
      ]
     },
     "execution_count": 6,
     "metadata": {},
     "output_type": "execute_result"
    }
   ],
   "source": [
    "erk.var_historic(er1, level=1)"
   ]
  },
  {
   "cell_type": "markdown",
   "id": "boolean-compilation",
   "metadata": {},
   "source": [
    "## Q.4\n",
    "Next, load the 30 industry return data using the erk.get_ind_returns() function that we developed during the lab sessions. For purposes of the remaining questions, use data during the 5 year period 2013-2017 (both inclusive) to estimate the expected returns as well as the covariance matrix. To be able to respond to the questions, you will need to build the MSR, EW and GMV portfolios consisting of the “Books”, “Steel”, \"Oil\", and \"Mines\" industries. Assume the risk free rate over the 5 year period is 10%.\n",
    "\n",
    "What is the weight of Steel in the EW Portfolio? "
   ]
  },
  {
   "cell_type": "code",
   "execution_count": 7,
   "id": "entertaining-holiday",
   "metadata": {},
   "outputs": [
    {
     "data": {
      "text/html": [
       "<div>\n",
       "<style scoped>\n",
       "    .dataframe tbody tr th:only-of-type {\n",
       "        vertical-align: middle;\n",
       "    }\n",
       "\n",
       "    .dataframe tbody tr th {\n",
       "        vertical-align: top;\n",
       "    }\n",
       "\n",
       "    .dataframe thead th {\n",
       "        text-align: right;\n",
       "    }\n",
       "</style>\n",
       "<table border=\"1\" class=\"dataframe\">\n",
       "  <thead>\n",
       "    <tr style=\"text-align: right;\">\n",
       "      <th></th>\n",
       "      <th>Food</th>\n",
       "      <th>Beer</th>\n",
       "      <th>Smoke</th>\n",
       "      <th>Games</th>\n",
       "      <th>Books</th>\n",
       "      <th>Hshld</th>\n",
       "      <th>Clths</th>\n",
       "      <th>Hlth</th>\n",
       "      <th>Chems</th>\n",
       "      <th>Txtls</th>\n",
       "      <th>...</th>\n",
       "      <th>Telcm</th>\n",
       "      <th>Servs</th>\n",
       "      <th>BusEq</th>\n",
       "      <th>Paper</th>\n",
       "      <th>Trans</th>\n",
       "      <th>Whlsl</th>\n",
       "      <th>Rtail</th>\n",
       "      <th>Meals</th>\n",
       "      <th>Fin</th>\n",
       "      <th>Other</th>\n",
       "    </tr>\n",
       "  </thead>\n",
       "  <tbody>\n",
       "    <tr>\n",
       "      <th>1926-07</th>\n",
       "      <td>0.0056</td>\n",
       "      <td>-0.0519</td>\n",
       "      <td>0.0129</td>\n",
       "      <td>0.0293</td>\n",
       "      <td>0.1097</td>\n",
       "      <td>-0.0048</td>\n",
       "      <td>0.0808</td>\n",
       "      <td>0.0177</td>\n",
       "      <td>0.0814</td>\n",
       "      <td>0.0039</td>\n",
       "      <td>...</td>\n",
       "      <td>0.0083</td>\n",
       "      <td>0.0922</td>\n",
       "      <td>0.0206</td>\n",
       "      <td>0.0770</td>\n",
       "      <td>0.0193</td>\n",
       "      <td>-0.2379</td>\n",
       "      <td>0.0007</td>\n",
       "      <td>0.0187</td>\n",
       "      <td>0.0037</td>\n",
       "      <td>0.0520</td>\n",
       "    </tr>\n",
       "    <tr>\n",
       "      <th>1926-08</th>\n",
       "      <td>0.0259</td>\n",
       "      <td>0.2703</td>\n",
       "      <td>0.0650</td>\n",
       "      <td>0.0055</td>\n",
       "      <td>0.1001</td>\n",
       "      <td>-0.0358</td>\n",
       "      <td>-0.0251</td>\n",
       "      <td>0.0425</td>\n",
       "      <td>0.0550</td>\n",
       "      <td>0.0814</td>\n",
       "      <td>...</td>\n",
       "      <td>0.0217</td>\n",
       "      <td>0.0202</td>\n",
       "      <td>0.0439</td>\n",
       "      <td>-0.0238</td>\n",
       "      <td>0.0488</td>\n",
       "      <td>0.0539</td>\n",
       "      <td>-0.0075</td>\n",
       "      <td>-0.0013</td>\n",
       "      <td>0.0446</td>\n",
       "      <td>0.0676</td>\n",
       "    </tr>\n",
       "    <tr>\n",
       "      <th>1926-09</th>\n",
       "      <td>0.0116</td>\n",
       "      <td>0.0402</td>\n",
       "      <td>0.0126</td>\n",
       "      <td>0.0658</td>\n",
       "      <td>-0.0099</td>\n",
       "      <td>0.0073</td>\n",
       "      <td>-0.0051</td>\n",
       "      <td>0.0069</td>\n",
       "      <td>0.0533</td>\n",
       "      <td>0.0231</td>\n",
       "      <td>...</td>\n",
       "      <td>0.0241</td>\n",
       "      <td>0.0225</td>\n",
       "      <td>0.0019</td>\n",
       "      <td>-0.0554</td>\n",
       "      <td>0.0005</td>\n",
       "      <td>-0.0787</td>\n",
       "      <td>0.0025</td>\n",
       "      <td>-0.0056</td>\n",
       "      <td>-0.0123</td>\n",
       "      <td>-0.0386</td>\n",
       "    </tr>\n",
       "    <tr>\n",
       "      <th>1926-10</th>\n",
       "      <td>-0.0306</td>\n",
       "      <td>-0.0331</td>\n",
       "      <td>0.0106</td>\n",
       "      <td>-0.0476</td>\n",
       "      <td>0.0947</td>\n",
       "      <td>-0.0468</td>\n",
       "      <td>0.0012</td>\n",
       "      <td>-0.0057</td>\n",
       "      <td>-0.0476</td>\n",
       "      <td>0.0100</td>\n",
       "      <td>...</td>\n",
       "      <td>-0.0011</td>\n",
       "      <td>-0.0200</td>\n",
       "      <td>-0.0109</td>\n",
       "      <td>-0.0508</td>\n",
       "      <td>-0.0264</td>\n",
       "      <td>-0.1538</td>\n",
       "      <td>-0.0220</td>\n",
       "      <td>-0.0411</td>\n",
       "      <td>-0.0516</td>\n",
       "      <td>-0.0849</td>\n",
       "    </tr>\n",
       "    <tr>\n",
       "      <th>1926-11</th>\n",
       "      <td>0.0635</td>\n",
       "      <td>0.0729</td>\n",
       "      <td>0.0455</td>\n",
       "      <td>0.0166</td>\n",
       "      <td>-0.0580</td>\n",
       "      <td>-0.0054</td>\n",
       "      <td>0.0187</td>\n",
       "      <td>0.0542</td>\n",
       "      <td>0.0520</td>\n",
       "      <td>0.0311</td>\n",
       "      <td>...</td>\n",
       "      <td>0.0163</td>\n",
       "      <td>0.0377</td>\n",
       "      <td>0.0364</td>\n",
       "      <td>0.0384</td>\n",
       "      <td>0.0160</td>\n",
       "      <td>0.0467</td>\n",
       "      <td>0.0652</td>\n",
       "      <td>0.0433</td>\n",
       "      <td>0.0224</td>\n",
       "      <td>0.0400</td>\n",
       "    </tr>\n",
       "  </tbody>\n",
       "</table>\n",
       "<p>5 rows × 30 columns</p>\n",
       "</div>"
      ],
      "text/plain": [
       "           Food    Beer   Smoke   Games   Books   Hshld   Clths    Hlth  \\\n",
       "1926-07  0.0056 -0.0519  0.0129  0.0293  0.1097 -0.0048  0.0808  0.0177   \n",
       "1926-08  0.0259  0.2703  0.0650  0.0055  0.1001 -0.0358 -0.0251  0.0425   \n",
       "1926-09  0.0116  0.0402  0.0126  0.0658 -0.0099  0.0073 -0.0051  0.0069   \n",
       "1926-10 -0.0306 -0.0331  0.0106 -0.0476  0.0947 -0.0468  0.0012 -0.0057   \n",
       "1926-11  0.0635  0.0729  0.0455  0.0166 -0.0580 -0.0054  0.0187  0.0542   \n",
       "\n",
       "          Chems   Txtls  ...   Telcm   Servs   BusEq   Paper   Trans   Whlsl  \\\n",
       "1926-07  0.0814  0.0039  ...  0.0083  0.0922  0.0206  0.0770  0.0193 -0.2379   \n",
       "1926-08  0.0550  0.0814  ...  0.0217  0.0202  0.0439 -0.0238  0.0488  0.0539   \n",
       "1926-09  0.0533  0.0231  ...  0.0241  0.0225  0.0019 -0.0554  0.0005 -0.0787   \n",
       "1926-10 -0.0476  0.0100  ... -0.0011 -0.0200 -0.0109 -0.0508 -0.0264 -0.1538   \n",
       "1926-11  0.0520  0.0311  ...  0.0163  0.0377  0.0364  0.0384  0.0160  0.0467   \n",
       "\n",
       "          Rtail   Meals     Fin   Other  \n",
       "1926-07  0.0007  0.0187  0.0037  0.0520  \n",
       "1926-08 -0.0075 -0.0013  0.0446  0.0676  \n",
       "1926-09  0.0025 -0.0056 -0.0123 -0.0386  \n",
       "1926-10 -0.0220 -0.0411 -0.0516 -0.0849  \n",
       "1926-11  0.0652  0.0433  0.0224  0.0400  \n",
       "\n",
       "[5 rows x 30 columns]"
      ]
     },
     "execution_count": 7,
     "metadata": {},
     "output_type": "execute_result"
    }
   ],
   "source": [
    "ind = erk.get_ind_returns()\n",
    "ind\n",
    "ind.head()"
   ]
  },
  {
   "cell_type": "code",
   "execution_count": 8,
   "id": "automotive-shark",
   "metadata": {},
   "outputs": [
    {
     "data": {
      "text/plain": [
       "Index(['Food', 'Beer', 'Smoke', 'Games', 'Books', 'Hshld', 'Clths', 'Hlth',\n",
       "       'Chems', 'Txtls', 'Cnstr', 'Steel', 'FabPr', 'ElcEq', 'Autos', 'Carry',\n",
       "       'Mines', 'Coal', 'Oil', 'Util', 'Telcm', 'Servs', 'BusEq', 'Paper',\n",
       "       'Trans', 'Whlsl', 'Rtail', 'Meals', 'Fin', 'Other'],\n",
       "      dtype='object')"
      ]
     },
     "execution_count": 8,
     "metadata": {},
     "output_type": "execute_result"
    }
   ],
   "source": [
    "ind.columns"
   ]
  },
  {
   "cell_type": "code",
   "execution_count": 9,
   "id": "ongoing-footage",
   "metadata": {},
   "outputs": [],
   "source": [
    "l = [\"Books\", \"Steel\", \"Oil\", \"Mines\"]\n",
    "er = erk.annualize_rets(ind[\"2013\":\"2017\"], 12)\n",
    "cov = ind[\"2013\":\"2017\"].cov()"
   ]
  },
  {
   "cell_type": "markdown",
   "id": "distant-morgan",
   "metadata": {},
   "source": [
    "## Q.5\n",
    "What is the weight of the largest component of the MSR portfolio? \n",
    "\n",
    "## Q.6\n",
    "Which of the 4 components has the largest weight in the MSR portfolio?\n",
    "\n",
    "## Q.7\n",
    "How many of the components of the MSR portfolio have non-zero weights?  "
   ]
  },
  {
   "cell_type": "code",
   "execution_count": 10,
   "id": "tired-shanghai",
   "metadata": {},
   "outputs": [
    {
     "data": {
      "text/plain": [
       "<AxesSubplot:xlabel='Volatility'>"
      ]
     },
     "execution_count": 10,
     "metadata": {},
     "output_type": "execute_result"
    },
    {
     "data": {
      "image/png": "[encoded data removed]",
      "text/plain": [
       "<Figure size 432x288 with 1 Axes>"
      ]
     },
     "metadata": {
      "needs_background": "light"
     },
     "output_type": "display_data"
    }
   ],
   "source": [
    "erk.plot_ef(50, er[l], cov.loc[l,l], riskfree_rate=0.1)"
   ]
  },
  {
   "cell_type": "code",
   "execution_count": 11,
   "id": "cooked-percentage",
   "metadata": {},
   "outputs": [
    {
     "data": {
      "text/plain": [
       "Books    0.095312\n",
       "Steel    0.100716\n",
       "Oil      0.025275\n",
       "Mines    0.005136\n",
       "dtype: float64"
      ]
     },
     "execution_count": 11,
     "metadata": {},
     "output_type": "execute_result"
    }
   ],
   "source": [
    "er[l]"
   ]
  },
  {
   "cell_type": "code",
   "execution_count": 12,
   "id": "african-netherlands",
   "metadata": {},
   "outputs": [
    {
     "data": {
      "text/plain": [
       "0.0662652335966289"
      ]
     },
     "execution_count": 12,
     "metadata": {},
     "output_type": "execute_result"
    }
   ],
   "source": [
    "weights_msr=erk.msr(0.1,er[l],cov.loc[l,l])\n",
    "\n",
    "covmat = cov.loc[l,l] \n",
    "\n",
    "erk.portfolio_vol(weights_msr,covmat)"
   ]
  },
  {
   "cell_type": "code",
   "execution_count": 13,
   "id": "impaired-saturn",
   "metadata": {},
   "outputs": [
    {
     "data": {
      "text/plain": [
       "array([4.51375048e-15, 1.00000000e+00, 1.40512602e-16, 0.00000000e+00])"
      ]
     },
     "execution_count": 13,
     "metadata": {},
     "output_type": "execute_result"
    }
   ],
   "source": [
    "weights_msr"
   ]
  },
  {
   "cell_type": "markdown",
   "id": "sixth-congress",
   "metadata": {},
   "source": [
    "## Q.8\n",
    "What is the weight of the largest component of the GMV portfolio?\n",
    "\n",
    "## Q.9\n",
    "Which of the 4 components has the largest weight in the GMV portfolio?   \n",
    "\n",
    "## Q.10\n",
    "How many of the components of the GMV portfolio have non-zero weights? "
   ]
  },
  {
   "cell_type": "code",
   "execution_count": 15,
   "id": "adapted-third",
   "metadata": {},
   "outputs": [
    {
     "data": {
      "text/plain": [
       "array([4.77024870e-01, 4.33680869e-19, 4.34112024e-01, 8.88631053e-02])"
      ]
     },
     "execution_count": 15,
     "metadata": {},
     "output_type": "execute_result"
    }
   ],
   "source": [
    "erk.gmv(cov.loc[l,l])"
   ]
  },
  {
   "cell_type": "markdown",
   "id": "liked-deviation",
   "metadata": {},
   "source": [
    "## Q.11\n",
    "Assume two different investors invested in the GMV and MSR portfolios at the start of 2018 using the weights we just computed. Compute the annualized volatility of these two portfolios over the next 12 months of 2018? (Hint: Use the portfolio_vol code we developed in the lab and use ind[“2018”][l].cov() to compute the covariance matrix for 2018, assuming that the variable ind holds the industry returns and the variable l holds the list of industry portfolios you are willing to hold. Don’t forget to annualize the volatility)\n",
    "\n",
    "What would be the annualized volatility over 2018 using the weights of the MSR portfolio?"
   ]
  },
  {
   "cell_type": "code",
   "execution_count": 20,
   "id": "welsh-discipline",
   "metadata": {},
   "outputs": [
    {
     "data": {
      "text/html": [
       "<div>\n",
       "<style scoped>\n",
       "    .dataframe tbody tr th:only-of-type {\n",
       "        vertical-align: middle;\n",
       "    }\n",
       "\n",
       "    .dataframe tbody tr th {\n",
       "        vertical-align: top;\n",
       "    }\n",
       "\n",
       "    .dataframe thead th {\n",
       "        text-align: right;\n",
       "    }\n",
       "</style>\n",
       "<table border=\"1\" class=\"dataframe\">\n",
       "  <thead>\n",
       "    <tr style=\"text-align: right;\">\n",
       "      <th></th>\n",
       "      <th>Food</th>\n",
       "      <th>Beer</th>\n",
       "      <th>Smoke</th>\n",
       "      <th>Games</th>\n",
       "      <th>Books</th>\n",
       "      <th>Hshld</th>\n",
       "      <th>Clths</th>\n",
       "      <th>Hlth</th>\n",
       "      <th>Chems</th>\n",
       "      <th>Txtls</th>\n",
       "      <th>...</th>\n",
       "      <th>Telcm</th>\n",
       "      <th>Servs</th>\n",
       "      <th>BusEq</th>\n",
       "      <th>Paper</th>\n",
       "      <th>Trans</th>\n",
       "      <th>Whlsl</th>\n",
       "      <th>Rtail</th>\n",
       "      <th>Meals</th>\n",
       "      <th>Fin</th>\n",
       "      <th>Other</th>\n",
       "    </tr>\n",
       "  </thead>\n",
       "  <tbody>\n",
       "    <tr>\n",
       "      <th>2018-01</th>\n",
       "      <td>0.0238</td>\n",
       "      <td>-0.0011</td>\n",
       "      <td>0.0013</td>\n",
       "      <td>0.1726</td>\n",
       "      <td>0.0449</td>\n",
       "      <td>-0.0198</td>\n",
       "      <td>0.0729</td>\n",
       "      <td>0.0638</td>\n",
       "      <td>0.0170</td>\n",
       "      <td>0.0160</td>\n",
       "      <td>...</td>\n",
       "      <td>0.0318</td>\n",
       "      <td>0.0925</td>\n",
       "      <td>0.0501</td>\n",
       "      <td>0.0438</td>\n",
       "      <td>0.0268</td>\n",
       "      <td>0.0483</td>\n",
       "      <td>0.1156</td>\n",
       "      <td>0.0323</td>\n",
       "      <td>0.0611</td>\n",
       "      <td>0.0551</td>\n",
       "    </tr>\n",
       "    <tr>\n",
       "      <th>2018-02</th>\n",
       "      <td>-0.0675</td>\n",
       "      <td>-0.0676</td>\n",
       "      <td>-0.0662</td>\n",
       "      <td>0.0109</td>\n",
       "      <td>-0.0325</td>\n",
       "      <td>-0.0625</td>\n",
       "      <td>-0.0195</td>\n",
       "      <td>-0.0390</td>\n",
       "      <td>-0.0512</td>\n",
       "      <td>-0.1235</td>\n",
       "      <td>...</td>\n",
       "      <td>-0.0732</td>\n",
       "      <td>-0.0169</td>\n",
       "      <td>0.0205</td>\n",
       "      <td>-0.0528</td>\n",
       "      <td>-0.0665</td>\n",
       "      <td>-0.0556</td>\n",
       "      <td>-0.0472</td>\n",
       "      <td>-0.0419</td>\n",
       "      <td>-0.0255</td>\n",
       "      <td>-0.0444</td>\n",
       "    </tr>\n",
       "    <tr>\n",
       "      <th>2018-03</th>\n",
       "      <td>-0.0187</td>\n",
       "      <td>0.0127</td>\n",
       "      <td>-0.0165</td>\n",
       "      <td>-0.0017</td>\n",
       "      <td>0.0031</td>\n",
       "      <td>0.0210</td>\n",
       "      <td>0.0064</td>\n",
       "      <td>-0.0200</td>\n",
       "      <td>-0.0186</td>\n",
       "      <td>-0.0214</td>\n",
       "      <td>...</td>\n",
       "      <td>-0.0252</td>\n",
       "      <td>-0.0331</td>\n",
       "      <td>-0.0292</td>\n",
       "      <td>-0.0435</td>\n",
       "      <td>0.0053</td>\n",
       "      <td>-0.0104</td>\n",
       "      <td>-0.0325</td>\n",
       "      <td>-0.0054</td>\n",
       "      <td>-0.0338</td>\n",
       "      <td>-0.0340</td>\n",
       "    </tr>\n",
       "    <tr>\n",
       "      <th>2018-04</th>\n",
       "      <td>-0.0167</td>\n",
       "      <td>-0.0429</td>\n",
       "      <td>-0.1416</td>\n",
       "      <td>0.0331</td>\n",
       "      <td>-0.0062</td>\n",
       "      <td>-0.0531</td>\n",
       "      <td>0.0316</td>\n",
       "      <td>-0.0028</td>\n",
       "      <td>0.0071</td>\n",
       "      <td>-0.0954</td>\n",
       "      <td>...</td>\n",
       "      <td>-0.0241</td>\n",
       "      <td>0.0118</td>\n",
       "      <td>-0.0195</td>\n",
       "      <td>-0.0609</td>\n",
       "      <td>0.0050</td>\n",
       "      <td>0.0083</td>\n",
       "      <td>0.0429</td>\n",
       "      <td>0.0350</td>\n",
       "      <td>0.0118</td>\n",
       "      <td>-0.0190</td>\n",
       "    </tr>\n",
       "    <tr>\n",
       "      <th>2018-05</th>\n",
       "      <td>-0.0078</td>\n",
       "      <td>-0.0119</td>\n",
       "      <td>-0.0187</td>\n",
       "      <td>0.0902</td>\n",
       "      <td>-0.0061</td>\n",
       "      <td>-0.0024</td>\n",
       "      <td>0.0421</td>\n",
       "      <td>0.0243</td>\n",
       "      <td>0.0242</td>\n",
       "      <td>-0.0136</td>\n",
       "      <td>...</td>\n",
       "      <td>-0.0093</td>\n",
       "      <td>0.0586</td>\n",
       "      <td>0.0784</td>\n",
       "      <td>0.0079</td>\n",
       "      <td>0.0486</td>\n",
       "      <td>0.0169</td>\n",
       "      <td>0.0136</td>\n",
       "      <td>-0.0195</td>\n",
       "      <td>0.0040</td>\n",
       "      <td>-0.0038</td>\n",
       "    </tr>\n",
       "    <tr>\n",
       "      <th>2018-06</th>\n",
       "      <td>0.0540</td>\n",
       "      <td>0.0442</td>\n",
       "      <td>0.0307</td>\n",
       "      <td>0.0496</td>\n",
       "      <td>0.0218</td>\n",
       "      <td>0.0362</td>\n",
       "      <td>0.0698</td>\n",
       "      <td>0.0152</td>\n",
       "      <td>0.0033</td>\n",
       "      <td>0.0336</td>\n",
       "      <td>...</td>\n",
       "      <td>0.0623</td>\n",
       "      <td>0.0107</td>\n",
       "      <td>-0.0190</td>\n",
       "      <td>-0.0044</td>\n",
       "      <td>-0.0365</td>\n",
       "      <td>0.0023</td>\n",
       "      <td>0.0436</td>\n",
       "      <td>-0.0289</td>\n",
       "      <td>-0.0098</td>\n",
       "      <td>-0.0204</td>\n",
       "    </tr>\n",
       "    <tr>\n",
       "      <th>2018-07</th>\n",
       "      <td>0.0221</td>\n",
       "      <td>0.0350</td>\n",
       "      <td>0.0524</td>\n",
       "      <td>-0.0612</td>\n",
       "      <td>-0.0417</td>\n",
       "      <td>0.0232</td>\n",
       "      <td>0.0035</td>\n",
       "      <td>0.0612</td>\n",
       "      <td>0.0485</td>\n",
       "      <td>-0.0889</td>\n",
       "      <td>...</td>\n",
       "      <td>0.0268</td>\n",
       "      <td>0.0203</td>\n",
       "      <td>0.0277</td>\n",
       "      <td>0.0595</td>\n",
       "      <td>0.0791</td>\n",
       "      <td>0.0239</td>\n",
       "      <td>0.0355</td>\n",
       "      <td>0.0116</td>\n",
       "      <td>0.0426</td>\n",
       "      <td>0.0604</td>\n",
       "    </tr>\n",
       "    <tr>\n",
       "      <th>2018-08</th>\n",
       "      <td>-0.0038</td>\n",
       "      <td>-0.0186</td>\n",
       "      <td>-0.0543</td>\n",
       "      <td>0.0289</td>\n",
       "      <td>-0.0447</td>\n",
       "      <td>0.0254</td>\n",
       "      <td>0.0526</td>\n",
       "      <td>0.0446</td>\n",
       "      <td>0.0001</td>\n",
       "      <td>0.0380</td>\n",
       "      <td>...</td>\n",
       "      <td>0.0295</td>\n",
       "      <td>0.0524</td>\n",
       "      <td>0.0993</td>\n",
       "      <td>-0.0034</td>\n",
       "      <td>0.0291</td>\n",
       "      <td>0.0366</td>\n",
       "      <td>0.0911</td>\n",
       "      <td>0.0364</td>\n",
       "      <td>0.0245</td>\n",
       "      <td>0.0299</td>\n",
       "    </tr>\n",
       "    <tr>\n",
       "      <th>2018-09</th>\n",
       "      <td>-0.0032</td>\n",
       "      <td>0.0019</td>\n",
       "      <td>0.0537</td>\n",
       "      <td>-0.0009</td>\n",
       "      <td>-0.0221</td>\n",
       "      <td>0.0107</td>\n",
       "      <td>0.0130</td>\n",
       "      <td>0.0199</td>\n",
       "      <td>-0.0287</td>\n",
       "      <td>-0.0638</td>\n",
       "      <td>...</td>\n",
       "      <td>0.0174</td>\n",
       "      <td>-0.0037</td>\n",
       "      <td>-0.0033</td>\n",
       "      <td>-0.0030</td>\n",
       "      <td>0.0105</td>\n",
       "      <td>-0.0148</td>\n",
       "      <td>0.0061</td>\n",
       "      <td>0.0251</td>\n",
       "      <td>-0.0193</td>\n",
       "      <td>0.0116</td>\n",
       "    </tr>\n",
       "    <tr>\n",
       "      <th>2018-10</th>\n",
       "      <td>0.0102</td>\n",
       "      <td>-0.0157</td>\n",
       "      <td>0.0790</td>\n",
       "      <td>-0.1596</td>\n",
       "      <td>-0.0666</td>\n",
       "      <td>-0.0051</td>\n",
       "      <td>-0.1014</td>\n",
       "      <td>-0.0884</td>\n",
       "      <td>-0.1250</td>\n",
       "      <td>-0.2579</td>\n",
       "      <td>...</td>\n",
       "      <td>-0.0050</td>\n",
       "      <td>-0.0920</td>\n",
       "      <td>-0.0806</td>\n",
       "      <td>-0.0982</td>\n",
       "      <td>-0.0975</td>\n",
       "      <td>-0.0788</td>\n",
       "      <td>-0.1021</td>\n",
       "      <td>-0.0171</td>\n",
       "      <td>-0.0545</td>\n",
       "      <td>-0.0599</td>\n",
       "    </tr>\n",
       "    <tr>\n",
       "      <th>2018-11</th>\n",
       "      <td>0.0272</td>\n",
       "      <td>0.0579</td>\n",
       "      <td>-0.0843</td>\n",
       "      <td>-0.0065</td>\n",
       "      <td>0.0325</td>\n",
       "      <td>0.0644</td>\n",
       "      <td>-0.0099</td>\n",
       "      <td>0.0632</td>\n",
       "      <td>0.0496</td>\n",
       "      <td>0.0292</td>\n",
       "      <td>...</td>\n",
       "      <td>0.0254</td>\n",
       "      <td>0.0129</td>\n",
       "      <td>-0.0505</td>\n",
       "      <td>0.0822</td>\n",
       "      <td>0.0617</td>\n",
       "      <td>0.0318</td>\n",
       "      <td>0.0159</td>\n",
       "      <td>0.0616</td>\n",
       "      <td>0.0289</td>\n",
       "      <td>0.0348</td>\n",
       "    </tr>\n",
       "    <tr>\n",
       "      <th>2018-12</th>\n",
       "      <td>-0.0973</td>\n",
       "      <td>-0.0969</td>\n",
       "      <td>-0.1580</td>\n",
       "      <td>-0.0824</td>\n",
       "      <td>-0.1535</td>\n",
       "      <td>-0.0557</td>\n",
       "      <td>-0.0728</td>\n",
       "      <td>-0.0840</td>\n",
       "      <td>-0.0776</td>\n",
       "      <td>-0.1009</td>\n",
       "      <td>...</td>\n",
       "      <td>-0.0884</td>\n",
       "      <td>-0.0765</td>\n",
       "      <td>-0.0923</td>\n",
       "      <td>-0.0863</td>\n",
       "      <td>-0.1519</td>\n",
       "      <td>-0.1121</td>\n",
       "      <td>-0.0919</td>\n",
       "      <td>-0.0628</td>\n",
       "      <td>-0.1144</td>\n",
       "      <td>-0.0693</td>\n",
       "    </tr>\n",
       "  </tbody>\n",
       "</table>\n",
       "<p>12 rows × 30 columns</p>\n",
       "</div>"
      ],
      "text/plain": [
       "           Food    Beer   Smoke   Games   Books   Hshld   Clths    Hlth  \\\n",
       "2018-01  0.0238 -0.0011  0.0013  0.1726  0.0449 -0.0198  0.0729  0.0638   \n",
       "2018-02 -0.0675 -0.0676 -0.0662  0.0109 -0.0325 -0.0625 -0.0195 -0.0390   \n",
       "2018-03 -0.0187  0.0127 -0.0165 -0.0017  0.0031  0.0210  0.0064 -0.0200   \n",
       "2018-04 -0.0167 -0.0429 -0.1416  0.0331 -0.0062 -0.0531  0.0316 -0.0028   \n",
       "2018-05 -0.0078 -0.0119 -0.0187  0.0902 -0.0061 -0.0024  0.0421  0.0243   \n",
       "2018-06  0.0540  0.0442  0.0307  0.0496  0.0218  0.0362  0.0698  0.0152   \n",
       "2018-07  0.0221  0.0350  0.0524 -0.0612 -0.0417  0.0232  0.0035  0.0612   \n",
       "2018-08 -0.0038 -0.0186 -0.0543  0.0289 -0.0447  0.0254  0.0526  0.0446   \n",
       "2018-09 -0.0032  0.0019  0.0537 -0.0009 -0.0221  0.0107  0.0130  0.0199   \n",
       "2018-10  0.0102 -0.0157  0.0790 -0.1596 -0.0666 -0.0051 -0.1014 -0.0884   \n",
       "2018-11  0.0272  0.0579 -0.0843 -0.0065  0.0325  0.0644 -0.0099  0.0632   \n",
       "2018-12 -0.0973 -0.0969 -0.1580 -0.0824 -0.1535 -0.0557 -0.0728 -0.0840   \n",
       "\n",
       "          Chems   Txtls  ...   Telcm   Servs   BusEq   Paper   Trans   Whlsl  \\\n",
       "2018-01  0.0170  0.0160  ...  0.0318  0.0925  0.0501  0.0438  0.0268  0.0483   \n",
       "2018-02 -0.0512 -0.1235  ... -0.0732 -0.0169  0.0205 -0.0528 -0.0665 -0.0556   \n",
       "2018-03 -0.0186 -0.0214  ... -0.0252 -0.0331 -0.0292 -0.0435  0.0053 -0.0104   \n",
       "2018-04  0.0071 -0.0954  ... -0.0241  0.0118 -0.0195 -0.0609  0.0050  0.0083   \n",
       "2018-05  0.0242 -0.0136  ... -0.0093  0.0586  0.0784  0.0079  0.0486  0.0169   \n",
       "2018-06  0.0033  0.0336  ...  0.0623  0.0107 -0.0190 -0.0044 -0.0365  0.0023   \n",
       "2018-07  0.0485 -0.0889  ...  0.0268  0.0203  0.0277  0.0595  0.0791  0.0239   \n",
       "2018-08  0.0001  0.0380  ...  0.0295  0.0524  0.0993 -0.0034  0.0291  0.0366   \n",
       "2018-09 -0.0287 -0.0638  ...  0.0174 -0.0037 -0.0033 -0.0030  0.0105 -0.0148   \n",
       "2018-10 -0.1250 -0.2579  ... -0.0050 -0.0920 -0.0806 -0.0982 -0.0975 -0.0788   \n",
       "2018-11  0.0496  0.0292  ...  0.0254  0.0129 -0.0505  0.0822  0.0617  0.0318   \n",
       "2018-12 -0.0776 -0.1009  ... -0.0884 -0.0765 -0.0923 -0.0863 -0.1519 -0.1121   \n",
       "\n",
       "          Rtail   Meals     Fin   Other  \n",
       "2018-01  0.1156  0.0323  0.0611  0.0551  \n",
       "2018-02 -0.0472 -0.0419 -0.0255 -0.0444  \n",
       "2018-03 -0.0325 -0.0054 -0.0338 -0.0340  \n",
       "2018-04  0.0429  0.0350  0.0118 -0.0190  \n",
       "2018-05  0.0136 -0.0195  0.0040 -0.0038  \n",
       "2018-06  0.0436 -0.0289 -0.0098 -0.0204  \n",
       "2018-07  0.0355  0.0116  0.0426  0.0604  \n",
       "2018-08  0.0911  0.0364  0.0245  0.0299  \n",
       "2018-09  0.0061  0.0251 -0.0193  0.0116  \n",
       "2018-10 -0.1021 -0.0171 -0.0545 -0.0599  \n",
       "2018-11  0.0159  0.0616  0.0289  0.0348  \n",
       "2018-12 -0.0919 -0.0628 -0.1144 -0.0693  \n",
       "\n",
       "[12 rows x 30 columns]"
      ]
     },
     "execution_count": 20,
     "metadata": {},
     "output_type": "execute_result"
    }
   ],
   "source": [
    "ind[\"2018\":]"
   ]
  },
  {
   "cell_type": "code",
   "execution_count": 26,
   "id": "pacific-boulder",
   "metadata": {},
   "outputs": [
    {
     "data": {
      "text/plain": [
       "0.21983988181484185"
      ]
     },
     "execution_count": 26,
     "metadata": {},
     "output_type": "execute_result"
    }
   ],
   "source": [
    "ind[\"2018\":][\"Steel\"].std()*np.sqrt(12)"
   ]
  },
  {
   "cell_type": "markdown",
   "id": "quick-hypothesis",
   "metadata": {},
   "source": [
    "## Q.12\n",
    "\n",
    "What would be the annualized volatility over 2018 using the weights of the GMV portfolio? (Reminder and Hint: Use the portfolio_vol code we developed in the lab and use ind[“2018”][l].cov() to compute the covariance matrix for 2018, assuming that the variable ind holds the industry returns and the variable l holds the list of industry portfolios you are willing to hold. Don’t forget to annualize the volatility) "
   ]
  },
  {
   "cell_type": "code",
   "execution_count": 30,
   "id": "nervous-perth",
   "metadata": {},
   "outputs": [],
   "source": [
    "ind_l = ind[\"2018\":][l]"
   ]
  },
  {
   "cell_type": "code",
   "execution_count": 31,
   "id": "assigned-teddy",
   "metadata": {},
   "outputs": [
    {
     "data": {
      "text/html": [
       "<div>\n",
       "<style scoped>\n",
       "    .dataframe tbody tr th:only-of-type {\n",
       "        vertical-align: middle;\n",
       "    }\n",
       "\n",
       "    .dataframe tbody tr th {\n",
       "        vertical-align: top;\n",
       "    }\n",
       "\n",
       "    .dataframe thead th {\n",
       "        text-align: right;\n",
       "    }\n",
       "</style>\n",
       "<table border=\"1\" class=\"dataframe\">\n",
       "  <thead>\n",
       "    <tr style=\"text-align: right;\">\n",
       "      <th></th>\n",
       "      <th>Books</th>\n",
       "      <th>Steel</th>\n",
       "      <th>Oil</th>\n",
       "      <th>Mines</th>\n",
       "    </tr>\n",
       "  </thead>\n",
       "  <tbody>\n",
       "    <tr>\n",
       "      <th>Books</th>\n",
       "      <td>0.002799</td>\n",
       "      <td>0.002098</td>\n",
       "      <td>0.002558</td>\n",
       "      <td>0.001629</td>\n",
       "    </tr>\n",
       "    <tr>\n",
       "      <th>Steel</th>\n",
       "      <td>0.002098</td>\n",
       "      <td>0.004027</td>\n",
       "      <td>0.003473</td>\n",
       "      <td>0.001843</td>\n",
       "    </tr>\n",
       "    <tr>\n",
       "      <th>Oil</th>\n",
       "      <td>0.002558</td>\n",
       "      <td>0.003473</td>\n",
       "      <td>0.005296</td>\n",
       "      <td>0.001961</td>\n",
       "    </tr>\n",
       "    <tr>\n",
       "      <th>Mines</th>\n",
       "      <td>0.001629</td>\n",
       "      <td>0.001843</td>\n",
       "      <td>0.001961</td>\n",
       "      <td>0.002059</td>\n",
       "    </tr>\n",
       "  </tbody>\n",
       "</table>\n",
       "</div>"
      ],
      "text/plain": [
       "          Books     Steel       Oil     Mines\n",
       "Books  0.002799  0.002098  0.002558  0.001629\n",
       "Steel  0.002098  0.004027  0.003473  0.001843\n",
       "Oil    0.002558  0.003473  0.005296  0.001961\n",
       "Mines  0.001629  0.001843  0.001961  0.002059"
      ]
     },
     "execution_count": 31,
     "metadata": {},
     "output_type": "execute_result"
    }
   ],
   "source": [
    "ind_l.cov()"
   ]
  },
  {
   "cell_type": "code",
   "execution_count": 33,
   "id": "suspended-storage",
   "metadata": {},
   "outputs": [],
   "source": [
    "gmv_l = erk.gmv(cov.loc[l,l])"
   ]
  },
  {
   "cell_type": "code",
   "execution_count": 34,
   "id": "known-railway",
   "metadata": {},
   "outputs": [
    {
     "data": {
      "text/plain": [
       "array([4.77024870e-01, 4.33680869e-19, 4.34112024e-01, 8.88631053e-02])"
      ]
     },
     "execution_count": 34,
     "metadata": {},
     "output_type": "execute_result"
    }
   ],
   "source": [
    "gmv_l"
   ]
  },
  {
   "cell_type": "code",
   "execution_count": 37,
   "id": "final-sustainability",
   "metadata": {},
   "outputs": [
    {
     "data": {
      "text/plain": [
       "0.003000021677618707"
      ]
     },
     "execution_count": 37,
     "metadata": {},
     "output_type": "execute_result"
    }
   ],
   "source": [
    "gmv_l.T @ ind_l.cov() @ gmv_l"
   ]
  },
  {
   "cell_type": "code",
   "execution_count": 41,
   "id": "nutritional-setting",
   "metadata": {},
   "outputs": [
    {
     "data": {
      "text/plain": [
       "0.18973734511535803"
      ]
     },
     "execution_count": 41,
     "metadata": {},
     "output_type": "execute_result"
    }
   ],
   "source": [
    "erk.portfolio_vol(gmv_l, ind_l.cov()) * np.sqrt(12)"
   ]
  },
  {
   "cell_type": "code",
   "execution_count": 42,
   "id": "ahead-irish",
   "metadata": {},
   "outputs": [
    {
     "data": {
      "text/plain": [
       "0.18973734511535803"
      ]
     },
     "execution_count": 42,
     "metadata": {},
     "output_type": "execute_result"
    }
   ],
   "source": [
    "(gmv_l.T @ ind_l.cov() @ gmv_l) ** 0.5 * np.sqrt(12)"
   ]
  },
  {
   "cell_type": "code",
   "execution_count": null,
   "id": "widespread-staff",
   "metadata": {},
   "outputs": [],
   "source": []
  }
 ],
 "metadata": {
  "kernelspec": {
   "display_name": "Python 3",
   "language": "python",
   "name": "python3"
  },
  "language_info": {
   "codemirror_mode": {
    "name": "ipython",
    "version": 3
   },
   "file_extension": ".py",
   "mimetype": "text/x-python",
   "name": "python",
   "nbconvert_exporter": "python",
   "pygments_lexer": "ipython3",
   "version": "3.8.8"
  },
  "toc": {
   "base_numbering": 1,
   "nav_menu": {},
   "number_sections": true,
   "sideBar": true,
   "skip_h1_title": false,
   "title_cell": "Table of Contents",
   "title_sidebar": "Contents",
   "toc_cell": false,
   "toc_position": {},
   "toc_section_display": true,
   "toc_window_display": false
  },
  "varInspector": {
   "cols": {
    "lenName": 16,
    "lenType": 16,
    "lenVar": 40
   },
   "kernels_config": {
    "python": {
     "delete_cmd_postfix": "",
     "delete_cmd_prefix": "del ",
     "library": "var_list.py",
     "varRefreshCmd": "print(var_dic_list())"
    },
    "r": {
     "delete_cmd_postfix": ") ",
     "delete_cmd_prefix": "rm(",
     "library": "var_list.r",
     "varRefreshCmd": "cat(var_dic_list()) "
    }
   },
   "types_to_exclude": [
    "module",
    "function",
    "builtin_function_or_method",
    "instance",
    "_Feature"
   ],
   "window_display": false
  }
 },
 "nbformat": 4,
 "nbformat_minor": 5
}
