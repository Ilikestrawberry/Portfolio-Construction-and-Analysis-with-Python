{
 "cells": [
  {
   "cell_type": "markdown",
   "metadata": {},
   "source": [
    "# 2nd review lesson\n",
    "## Efficient Frontier"
   ]
  },
  {
   "cell_type": "code",
   "execution_count": 11,
   "metadata": {},
   "outputs": [
    {
     "name": "stdout",
     "output_type": "stream",
     "text": [
      "The autoreload extension is already loaded. To reload it, use:\n",
      "  %reload_ext autoreload\n"
     ]
    }
   ],
   "source": [
    "import pandas as pd\n",
    "import numpy as np\n",
    "import edhec_risk_kit_2 as erk\n",
    "%load_ext autoreload\n",
    "%autoreload 2"
   ]
  },
  {
   "cell_type": "code",
   "execution_count": 3,
   "metadata": {},
   "outputs": [
    {
     "data": {
      "text/html": [
       "<div>\n",
       "<style scoped>\n",
       "    .dataframe tbody tr th:only-of-type {\n",
       "        vertical-align: middle;\n",
       "    }\n",
       "\n",
       "    .dataframe tbody tr th {\n",
       "        vertical-align: top;\n",
       "    }\n",
       "\n",
       "    .dataframe thead th {\n",
       "        text-align: right;\n",
       "    }\n",
       "</style>\n",
       "<table border=\"1\" class=\"dataframe\">\n",
       "  <thead>\n",
       "    <tr style=\"text-align: right;\">\n",
       "      <th></th>\n",
       "      <th>Food</th>\n",
       "      <th>Beer</th>\n",
       "      <th>Smoke</th>\n",
       "      <th>Games</th>\n",
       "      <th>Books</th>\n",
       "      <th>Hshld</th>\n",
       "      <th>Clths</th>\n",
       "      <th>Hlth</th>\n",
       "      <th>Chems</th>\n",
       "      <th>Txtls</th>\n",
       "      <th>...</th>\n",
       "      <th>Telcm</th>\n",
       "      <th>Servs</th>\n",
       "      <th>BusEq</th>\n",
       "      <th>Paper</th>\n",
       "      <th>Trans</th>\n",
       "      <th>Whlsl</th>\n",
       "      <th>Rtail</th>\n",
       "      <th>Meals</th>\n",
       "      <th>Fin</th>\n",
       "      <th>Other</th>\n",
       "    </tr>\n",
       "  </thead>\n",
       "  <tbody>\n",
       "    <tr>\n",
       "      <th>192607</th>\n",
       "      <td>0.0056</td>\n",
       "      <td>-0.0519</td>\n",
       "      <td>0.0129</td>\n",
       "      <td>0.0293</td>\n",
       "      <td>0.1097</td>\n",
       "      <td>-0.0048</td>\n",
       "      <td>0.0808</td>\n",
       "      <td>0.0177</td>\n",
       "      <td>0.0814</td>\n",
       "      <td>0.0039</td>\n",
       "      <td>...</td>\n",
       "      <td>0.0083</td>\n",
       "      <td>0.0922</td>\n",
       "      <td>0.0206</td>\n",
       "      <td>0.0770</td>\n",
       "      <td>0.0193</td>\n",
       "      <td>-0.2379</td>\n",
       "      <td>0.0007</td>\n",
       "      <td>0.0187</td>\n",
       "      <td>0.0037</td>\n",
       "      <td>0.0520</td>\n",
       "    </tr>\n",
       "    <tr>\n",
       "      <th>192608</th>\n",
       "      <td>0.0259</td>\n",
       "      <td>0.2703</td>\n",
       "      <td>0.0650</td>\n",
       "      <td>0.0055</td>\n",
       "      <td>0.1001</td>\n",
       "      <td>-0.0358</td>\n",
       "      <td>-0.0251</td>\n",
       "      <td>0.0425</td>\n",
       "      <td>0.0550</td>\n",
       "      <td>0.0814</td>\n",
       "      <td>...</td>\n",
       "      <td>0.0217</td>\n",
       "      <td>0.0202</td>\n",
       "      <td>0.0439</td>\n",
       "      <td>-0.0238</td>\n",
       "      <td>0.0488</td>\n",
       "      <td>0.0539</td>\n",
       "      <td>-0.0075</td>\n",
       "      <td>-0.0013</td>\n",
       "      <td>0.0446</td>\n",
       "      <td>0.0676</td>\n",
       "    </tr>\n",
       "    <tr>\n",
       "      <th>192609</th>\n",
       "      <td>0.0116</td>\n",
       "      <td>0.0402</td>\n",
       "      <td>0.0126</td>\n",
       "      <td>0.0658</td>\n",
       "      <td>-0.0099</td>\n",
       "      <td>0.0073</td>\n",
       "      <td>-0.0051</td>\n",
       "      <td>0.0069</td>\n",
       "      <td>0.0533</td>\n",
       "      <td>0.0231</td>\n",
       "      <td>...</td>\n",
       "      <td>0.0241</td>\n",
       "      <td>0.0225</td>\n",
       "      <td>0.0019</td>\n",
       "      <td>-0.0554</td>\n",
       "      <td>0.0005</td>\n",
       "      <td>-0.0787</td>\n",
       "      <td>0.0025</td>\n",
       "      <td>-0.0056</td>\n",
       "      <td>-0.0123</td>\n",
       "      <td>-0.0386</td>\n",
       "    </tr>\n",
       "    <tr>\n",
       "      <th>192610</th>\n",
       "      <td>-0.0306</td>\n",
       "      <td>-0.0331</td>\n",
       "      <td>0.0106</td>\n",
       "      <td>-0.0476</td>\n",
       "      <td>0.0947</td>\n",
       "      <td>-0.0468</td>\n",
       "      <td>0.0012</td>\n",
       "      <td>-0.0057</td>\n",
       "      <td>-0.0476</td>\n",
       "      <td>0.0100</td>\n",
       "      <td>...</td>\n",
       "      <td>-0.0011</td>\n",
       "      <td>-0.0200</td>\n",
       "      <td>-0.0109</td>\n",
       "      <td>-0.0508</td>\n",
       "      <td>-0.0264</td>\n",
       "      <td>-0.1538</td>\n",
       "      <td>-0.0220</td>\n",
       "      <td>-0.0411</td>\n",
       "      <td>-0.0516</td>\n",
       "      <td>-0.0849</td>\n",
       "    </tr>\n",
       "    <tr>\n",
       "      <th>192611</th>\n",
       "      <td>0.0635</td>\n",
       "      <td>0.0729</td>\n",
       "      <td>0.0455</td>\n",
       "      <td>0.0166</td>\n",
       "      <td>-0.0580</td>\n",
       "      <td>-0.0054</td>\n",
       "      <td>0.0187</td>\n",
       "      <td>0.0542</td>\n",
       "      <td>0.0520</td>\n",
       "      <td>0.0311</td>\n",
       "      <td>...</td>\n",
       "      <td>0.0163</td>\n",
       "      <td>0.0377</td>\n",
       "      <td>0.0364</td>\n",
       "      <td>0.0384</td>\n",
       "      <td>0.0160</td>\n",
       "      <td>0.0467</td>\n",
       "      <td>0.0652</td>\n",
       "      <td>0.0433</td>\n",
       "      <td>0.0224</td>\n",
       "      <td>0.0400</td>\n",
       "    </tr>\n",
       "  </tbody>\n",
       "</table>\n",
       "<p>5 rows × 30 columns</p>\n",
       "</div>"
      ],
      "text/plain": [
       "         Food    Beer    Smoke   Games   Books   Hshld   Clths   Hlth   \\\n",
       "192607  0.0056 -0.0519  0.0129  0.0293  0.1097 -0.0048  0.0808  0.0177   \n",
       "192608  0.0259  0.2703  0.0650  0.0055  0.1001 -0.0358 -0.0251  0.0425   \n",
       "192609  0.0116  0.0402  0.0126  0.0658 -0.0099  0.0073 -0.0051  0.0069   \n",
       "192610 -0.0306 -0.0331  0.0106 -0.0476  0.0947 -0.0468  0.0012 -0.0057   \n",
       "192611  0.0635  0.0729  0.0455  0.0166 -0.0580 -0.0054  0.0187  0.0542   \n",
       "\n",
       "         Chems   Txtls  ...   Telcm   Servs   BusEq   Paper   Trans   Whlsl  \\\n",
       "192607  0.0814  0.0039  ...  0.0083  0.0922  0.0206  0.0770  0.0193 -0.2379   \n",
       "192608  0.0550  0.0814  ...  0.0217  0.0202  0.0439 -0.0238  0.0488  0.0539   \n",
       "192609  0.0533  0.0231  ...  0.0241  0.0225  0.0019 -0.0554  0.0005 -0.0787   \n",
       "192610 -0.0476  0.0100  ... -0.0011 -0.0200 -0.0109 -0.0508 -0.0264 -0.1538   \n",
       "192611  0.0520  0.0311  ...  0.0163  0.0377  0.0364  0.0384  0.0160  0.0467   \n",
       "\n",
       "         Rtail   Meals   Fin     Other  \n",
       "192607  0.0007  0.0187  0.0037  0.0520  \n",
       "192608 -0.0075 -0.0013  0.0446  0.0676  \n",
       "192609  0.0025 -0.0056 -0.0123 -0.0386  \n",
       "192610 -0.0220 -0.0411 -0.0516 -0.0849  \n",
       "192611  0.0652  0.0433  0.0224  0.0400  \n",
       "\n",
       "[5 rows x 30 columns]"
      ]
     },
     "execution_count": 3,
     "metadata": {},
     "output_type": "execute_result"
    }
   ],
   "source": [
    "ind = pd.read_csv(\"data/ind30_m_vw_rets.csv\", header=0, index_col=0,\n",
    "                 parse_dates=True)/100\n",
    "ind.head()"
   ]
  },
  {
   "cell_type": "code",
   "execution_count": 4,
   "metadata": {},
   "outputs": [],
   "source": [
    "ind.index = pd.to_datetime(ind.index, format='%Y%m').to_period('M')"
   ]
  },
  {
   "cell_type": "code",
   "execution_count": 26,
   "metadata": {},
   "outputs": [
    {
     "data": {
      "text/html": [
       "<div>\n",
       "<style scoped>\n",
       "    .dataframe tbody tr th:only-of-type {\n",
       "        vertical-align: middle;\n",
       "    }\n",
       "\n",
       "    .dataframe tbody tr th {\n",
       "        vertical-align: top;\n",
       "    }\n",
       "\n",
       "    .dataframe thead th {\n",
       "        text-align: right;\n",
       "    }\n",
       "</style>\n",
       "<table border=\"1\" class=\"dataframe\">\n",
       "  <thead>\n",
       "    <tr style=\"text-align: right;\">\n",
       "      <th></th>\n",
       "      <th>Food</th>\n",
       "      <th>Beer</th>\n",
       "      <th>Smoke</th>\n",
       "      <th>Games</th>\n",
       "      <th>Books</th>\n",
       "      <th>Hshld</th>\n",
       "      <th>Clths</th>\n",
       "      <th>Hlth</th>\n",
       "      <th>Chems</th>\n",
       "      <th>Txtls</th>\n",
       "      <th>...</th>\n",
       "      <th>Telcm</th>\n",
       "      <th>Servs</th>\n",
       "      <th>BusEq</th>\n",
       "      <th>Paper</th>\n",
       "      <th>Trans</th>\n",
       "      <th>Whlsl</th>\n",
       "      <th>Rtail</th>\n",
       "      <th>Meals</th>\n",
       "      <th>Fin</th>\n",
       "      <th>Other</th>\n",
       "    </tr>\n",
       "  </thead>\n",
       "  <tbody>\n",
       "    <tr>\n",
       "      <th>2018-08</th>\n",
       "      <td>-0.0038</td>\n",
       "      <td>-0.0186</td>\n",
       "      <td>-0.0543</td>\n",
       "      <td>0.0289</td>\n",
       "      <td>-0.0447</td>\n",
       "      <td>0.0254</td>\n",
       "      <td>0.0526</td>\n",
       "      <td>0.0446</td>\n",
       "      <td>0.0001</td>\n",
       "      <td>0.0380</td>\n",
       "      <td>...</td>\n",
       "      <td>0.0295</td>\n",
       "      <td>0.0524</td>\n",
       "      <td>0.0993</td>\n",
       "      <td>-0.0034</td>\n",
       "      <td>0.0291</td>\n",
       "      <td>0.0366</td>\n",
       "      <td>0.0911</td>\n",
       "      <td>0.0364</td>\n",
       "      <td>0.0245</td>\n",
       "      <td>0.0299</td>\n",
       "    </tr>\n",
       "    <tr>\n",
       "      <th>2018-09</th>\n",
       "      <td>-0.0032</td>\n",
       "      <td>0.0019</td>\n",
       "      <td>0.0537</td>\n",
       "      <td>-0.0009</td>\n",
       "      <td>-0.0221</td>\n",
       "      <td>0.0107</td>\n",
       "      <td>0.0130</td>\n",
       "      <td>0.0199</td>\n",
       "      <td>-0.0287</td>\n",
       "      <td>-0.0638</td>\n",
       "      <td>...</td>\n",
       "      <td>0.0174</td>\n",
       "      <td>-0.0037</td>\n",
       "      <td>-0.0033</td>\n",
       "      <td>-0.0030</td>\n",
       "      <td>0.0105</td>\n",
       "      <td>-0.0148</td>\n",
       "      <td>0.0061</td>\n",
       "      <td>0.0251</td>\n",
       "      <td>-0.0193</td>\n",
       "      <td>0.0116</td>\n",
       "    </tr>\n",
       "    <tr>\n",
       "      <th>2018-10</th>\n",
       "      <td>0.0102</td>\n",
       "      <td>-0.0157</td>\n",
       "      <td>0.0790</td>\n",
       "      <td>-0.1596</td>\n",
       "      <td>-0.0666</td>\n",
       "      <td>-0.0051</td>\n",
       "      <td>-0.1014</td>\n",
       "      <td>-0.0884</td>\n",
       "      <td>-0.1250</td>\n",
       "      <td>-0.2579</td>\n",
       "      <td>...</td>\n",
       "      <td>-0.0050</td>\n",
       "      <td>-0.0920</td>\n",
       "      <td>-0.0806</td>\n",
       "      <td>-0.0982</td>\n",
       "      <td>-0.0975</td>\n",
       "      <td>-0.0788</td>\n",
       "      <td>-0.1021</td>\n",
       "      <td>-0.0171</td>\n",
       "      <td>-0.0545</td>\n",
       "      <td>-0.0599</td>\n",
       "    </tr>\n",
       "    <tr>\n",
       "      <th>2018-11</th>\n",
       "      <td>0.0272</td>\n",
       "      <td>0.0579</td>\n",
       "      <td>-0.0843</td>\n",
       "      <td>-0.0065</td>\n",
       "      <td>0.0325</td>\n",
       "      <td>0.0644</td>\n",
       "      <td>-0.0099</td>\n",
       "      <td>0.0632</td>\n",
       "      <td>0.0496</td>\n",
       "      <td>0.0292</td>\n",
       "      <td>...</td>\n",
       "      <td>0.0254</td>\n",
       "      <td>0.0129</td>\n",
       "      <td>-0.0505</td>\n",
       "      <td>0.0822</td>\n",
       "      <td>0.0617</td>\n",
       "      <td>0.0318</td>\n",
       "      <td>0.0159</td>\n",
       "      <td>0.0616</td>\n",
       "      <td>0.0289</td>\n",
       "      <td>0.0348</td>\n",
       "    </tr>\n",
       "    <tr>\n",
       "      <th>2018-12</th>\n",
       "      <td>-0.0973</td>\n",
       "      <td>-0.0969</td>\n",
       "      <td>-0.1580</td>\n",
       "      <td>-0.0824</td>\n",
       "      <td>-0.1535</td>\n",
       "      <td>-0.0557</td>\n",
       "      <td>-0.0728</td>\n",
       "      <td>-0.0840</td>\n",
       "      <td>-0.0776</td>\n",
       "      <td>-0.1009</td>\n",
       "      <td>...</td>\n",
       "      <td>-0.0884</td>\n",
       "      <td>-0.0765</td>\n",
       "      <td>-0.0923</td>\n",
       "      <td>-0.0863</td>\n",
       "      <td>-0.1519</td>\n",
       "      <td>-0.1121</td>\n",
       "      <td>-0.0919</td>\n",
       "      <td>-0.0628</td>\n",
       "      <td>-0.1144</td>\n",
       "      <td>-0.0693</td>\n",
       "    </tr>\n",
       "  </tbody>\n",
       "</table>\n",
       "<p>5 rows × 30 columns</p>\n",
       "</div>"
      ],
      "text/plain": [
       "           Food    Beer   Smoke   Games   Books   Hshld   Clths    Hlth  \\\n",
       "2018-08 -0.0038 -0.0186 -0.0543  0.0289 -0.0447  0.0254  0.0526  0.0446   \n",
       "2018-09 -0.0032  0.0019  0.0537 -0.0009 -0.0221  0.0107  0.0130  0.0199   \n",
       "2018-10  0.0102 -0.0157  0.0790 -0.1596 -0.0666 -0.0051 -0.1014 -0.0884   \n",
       "2018-11  0.0272  0.0579 -0.0843 -0.0065  0.0325  0.0644 -0.0099  0.0632   \n",
       "2018-12 -0.0973 -0.0969 -0.1580 -0.0824 -0.1535 -0.0557 -0.0728 -0.0840   \n",
       "\n",
       "          Chems   Txtls  ...   Telcm   Servs   BusEq   Paper   Trans   Whlsl  \\\n",
       "2018-08  0.0001  0.0380  ...  0.0295  0.0524  0.0993 -0.0034  0.0291  0.0366   \n",
       "2018-09 -0.0287 -0.0638  ...  0.0174 -0.0037 -0.0033 -0.0030  0.0105 -0.0148   \n",
       "2018-10 -0.1250 -0.2579  ... -0.0050 -0.0920 -0.0806 -0.0982 -0.0975 -0.0788   \n",
       "2018-11  0.0496  0.0292  ...  0.0254  0.0129 -0.0505  0.0822  0.0617  0.0318   \n",
       "2018-12 -0.0776 -0.1009  ... -0.0884 -0.0765 -0.0923 -0.0863 -0.1519 -0.1121   \n",
       "\n",
       "          Rtail   Meals     Fin   Other  \n",
       "2018-08  0.0911  0.0364  0.0245  0.0299  \n",
       "2018-09  0.0061  0.0251 -0.0193  0.0116  \n",
       "2018-10 -0.1021 -0.0171 -0.0545 -0.0599  \n",
       "2018-11  0.0159  0.0616  0.0289  0.0348  \n",
       "2018-12 -0.0919 -0.0628 -0.1144 -0.0693  \n",
       "\n",
       "[5 rows x 30 columns]"
      ]
     },
     "execution_count": 26,
     "metadata": {},
     "output_type": "execute_result"
    }
   ],
   "source": [
    "ind.tail()"
   ]
  },
  {
   "cell_type": "code",
   "execution_count": 6,
   "metadata": {},
   "outputs": [
    {
     "data": {
      "text/plain": [
       "Index(['Food ', 'Beer ', 'Smoke', 'Games', 'Books', 'Hshld', 'Clths', 'Hlth ',\n",
       "       'Chems', 'Txtls', 'Cnstr', 'Steel', 'FabPr', 'ElcEq', 'Autos', 'Carry',\n",
       "       'Mines', 'Coal ', 'Oil  ', 'Util ', 'Telcm', 'Servs', 'BusEq', 'Paper',\n",
       "       'Trans', 'Whlsl', 'Rtail', 'Meals', 'Fin  ', 'Other'],\n",
       "      dtype='object')"
      ]
     },
     "execution_count": 6,
     "metadata": {},
     "output_type": "execute_result"
    }
   ],
   "source": [
    "ind.columns"
   ]
  },
  {
   "cell_type": "code",
   "execution_count": 7,
   "metadata": {},
   "outputs": [],
   "source": [
    "ind.columns = ind.columns.str.strip()"
   ]
  },
  {
   "cell_type": "code",
   "execution_count": 8,
   "metadata": {},
   "outputs": [
    {
     "data": {
      "text/plain": [
       "Index(['Food', 'Beer', 'Smoke', 'Games', 'Books', 'Hshld', 'Clths', 'Hlth',\n",
       "       'Chems', 'Txtls', 'Cnstr', 'Steel', 'FabPr', 'ElcEq', 'Autos', 'Carry',\n",
       "       'Mines', 'Coal', 'Oil', 'Util', 'Telcm', 'Servs', 'BusEq', 'Paper',\n",
       "       'Trans', 'Whlsl', 'Rtail', 'Meals', 'Fin', 'Other'],\n",
       "      dtype='object')"
      ]
     },
     "execution_count": 8,
     "metadata": {},
     "output_type": "execute_result"
    }
   ],
   "source": [
    "ind.columns"
   ]
  },
  {
   "cell_type": "code",
   "execution_count": 9,
   "metadata": {},
   "outputs": [
    {
     "data": {
      "text/plain": [
       "(1110, 30)"
      ]
     },
     "execution_count": 9,
     "metadata": {},
     "output_type": "execute_result"
    }
   ],
   "source": [
    "ind.shape"
   ]
  },
  {
   "cell_type": "code",
   "execution_count": 13,
   "metadata": {},
   "outputs": [
    {
     "data": {
      "text/plain": [
       "(1110, 30)"
      ]
     },
     "execution_count": 13,
     "metadata": {},
     "output_type": "execute_result"
    }
   ],
   "source": [
    "ind = erk.get_ind_returns()\n",
    "ind.shape"
   ]
  },
  {
   "cell_type": "code",
   "execution_count": 16,
   "metadata": {},
   "outputs": [
    {
     "data": {
      "text/plain": [
       "<AxesSubplot:>"
      ]
     },
     "execution_count": 16,
     "metadata": {},
     "output_type": "execute_result"
    },
    {
     "data": {
      "image/png": "[encoded data removed]",
      "text/plain": [
       "<Figure size 864x432 with 1 Axes>"
      ]
     },
     "metadata": {
      "needs_background": "light"
     },
     "output_type": "display_data"
    }
   ],
   "source": [
    "erk.drawdown(ind[\"Food\"])[\"Drawdown\"].plot.line(figsize=(12,6))"
   ]
  },
  {
   "cell_type": "code",
   "execution_count": 19,
   "metadata": {},
   "outputs": [
    {
     "data": {
      "text/plain": [
       "Fin      0.075199\n",
       "Games    0.100701\n",
       "Beer     0.033881\n",
       "Smoke    0.080292\n",
       "Books    0.088675\n",
       "dtype: float64"
      ]
     },
     "execution_count": 19,
     "metadata": {},
     "output_type": "execute_result"
    }
   ],
   "source": [
    "erk.var_gaussian(ind[[\"Fin\", \"Games\", \"Beer\", \"Smoke\", \"Books\"]], modified=True)"
   ]
  },
  {
   "cell_type": "code",
   "execution_count": 21,
   "metadata": {},
   "outputs": [
    {
     "data": {
      "text/plain": [
       "Beer     0.033881\n",
       "Coal     0.047359\n",
       "Food     0.061207\n",
       "Telcm    0.064719\n",
       "Hshld    0.064886\n",
       "Trans    0.065468\n",
       "Servs    0.066112\n",
       "Autos    0.069545\n",
       "Util     0.071585\n",
       "Hlth     0.071884\n",
       "Paper    0.073181\n",
       "Steel    0.074436\n",
       "Fin      0.075199\n",
       "Chems    0.079262\n",
       "Txtls    0.079519\n",
       "Clths    0.079707\n",
       "Smoke    0.080292\n",
       "Rtail    0.080437\n",
       "Whlsl    0.080604\n",
       "Oil      0.081244\n",
       "Other    0.087270\n",
       "ElcEq    0.087624\n",
       "FabPr    0.088491\n",
       "Books    0.088675\n",
       "Cnstr    0.089668\n",
       "Carry    0.094527\n",
       "Meals    0.098403\n",
       "BusEq    0.099377\n",
       "Games    0.100701\n",
       "Mines    0.102782\n",
       "dtype: float64"
      ]
     },
     "execution_count": 21,
     "metadata": {},
     "output_type": "execute_result"
    }
   ],
   "source": [
    "erk.var_gaussian(ind, modified=True).sort_values()"
   ]
  },
  {
   "cell_type": "code",
   "execution_count": 22,
   "metadata": {},
   "outputs": [
    {
     "data": {
      "text/plain": [
       "<AxesSubplot:>"
      ]
     },
     "execution_count": 22,
     "metadata": {},
     "output_type": "execute_result"
    },
    {
     "data": {
      "image/png": "[encoded data removed]",
      "text/plain": [
       "<Figure size 720x432 with 1 Axes>"
      ]
     },
     "metadata": {
      "needs_background": "light"
     },
     "output_type": "display_data"
    }
   ],
   "source": [
    "erk.var_gaussian(ind, modified=True).sort_values().plot.bar(figsize=(10,6))"
   ]
  },
  {
   "cell_type": "code",
   "execution_count": 25,
   "metadata": {},
   "outputs": [
    {
     "data": {
      "text/plain": [
       "<AxesSubplot:title={'center':'IU'}>"
      ]
     },
     "execution_count": 25,
     "metadata": {},
     "output_type": "execute_result"
    },
    {
     "data": {
      "image/png": "[encoded data removed]",
      "text/plain": [
       "<Figure size 720x360 with 1 Axes>"
      ]
     },
     "metadata": {
      "needs_background": "light"
     },
     "output_type": "display_data"
    }
   ],
   "source": [
    "erk.sharpe_ratio(ind, 0.01, 12).sort_values().plot.bar(title=\"IU\",\n",
    "                                                      color=\"goldenrod\",\n",
    "                                                      figsize=(10,5))"
   ]
  },
  {
   "cell_type": "code",
   "execution_count": 29,
   "metadata": {},
   "outputs": [
    {
     "data": {
      "text/plain": [
       "<AxesSubplot:>"
      ]
     },
     "execution_count": 29,
     "metadata": {},
     "output_type": "execute_result"
    },
    {
     "data": {
      "image/png": "[encoded data removed]",
      "text/plain": [
       "<Figure size 432x288 with 1 Axes>"
      ]
     },
     "metadata": {
      "needs_background": "light"
     },
     "output_type": "display_data"
    }
   ],
   "source": [
    "er = erk.annualize_rets(ind[\"2000\":], 12)\n",
    "er.sort_values().plot.bar()"
   ]
  },
  {
   "cell_type": "code",
   "execution_count": 31,
   "metadata": {},
   "outputs": [],
   "source": [
    "cov = ind[\"2000\":].cov()"
   ]
  },
  {
   "cell_type": "code",
   "execution_count": 32,
   "metadata": {},
   "outputs": [
    {
     "data": {
      "text/html": [
       "<div>\n",
       "<style scoped>\n",
       "    .dataframe tbody tr th:only-of-type {\n",
       "        vertical-align: middle;\n",
       "    }\n",
       "\n",
       "    .dataframe tbody tr th {\n",
       "        vertical-align: top;\n",
       "    }\n",
       "\n",
       "    .dataframe thead th {\n",
       "        text-align: right;\n",
       "    }\n",
       "</style>\n",
       "<table border=\"1\" class=\"dataframe\">\n",
       "  <thead>\n",
       "    <tr style=\"text-align: right;\">\n",
       "      <th></th>\n",
       "      <th>Food</th>\n",
       "      <th>Beer</th>\n",
       "      <th>Smoke</th>\n",
       "      <th>Games</th>\n",
       "      <th>Books</th>\n",
       "      <th>Hshld</th>\n",
       "      <th>Clths</th>\n",
       "      <th>Hlth</th>\n",
       "      <th>Chems</th>\n",
       "      <th>Txtls</th>\n",
       "      <th>...</th>\n",
       "      <th>Telcm</th>\n",
       "      <th>Servs</th>\n",
       "      <th>BusEq</th>\n",
       "      <th>Paper</th>\n",
       "      <th>Trans</th>\n",
       "      <th>Whlsl</th>\n",
       "      <th>Rtail</th>\n",
       "      <th>Meals</th>\n",
       "      <th>Fin</th>\n",
       "      <th>Other</th>\n",
       "    </tr>\n",
       "  </thead>\n",
       "  <tbody>\n",
       "    <tr>\n",
       "      <th>Food</th>\n",
       "      <td>0.001277</td>\n",
       "      <td>0.000945</td>\n",
       "      <td>0.001302</td>\n",
       "      <td>0.001282</td>\n",
       "      <td>0.001136</td>\n",
       "      <td>0.000811</td>\n",
       "      <td>0.001103</td>\n",
       "      <td>0.000774</td>\n",
       "      <td>0.001254</td>\n",
       "      <td>0.001570</td>\n",
       "      <td>...</td>\n",
       "      <td>0.000928</td>\n",
       "      <td>0.000755</td>\n",
       "      <td>0.000728</td>\n",
       "      <td>0.001120</td>\n",
       "      <td>0.000937</td>\n",
       "      <td>0.000961</td>\n",
       "      <td>0.000896</td>\n",
       "      <td>0.000944</td>\n",
       "      <td>0.001124</td>\n",
       "      <td>0.000874</td>\n",
       "    </tr>\n",
       "    <tr>\n",
       "      <th>Beer</th>\n",
       "      <td>0.000945</td>\n",
       "      <td>0.001608</td>\n",
       "      <td>0.001103</td>\n",
       "      <td>0.000889</td>\n",
       "      <td>0.000751</td>\n",
       "      <td>0.000946</td>\n",
       "      <td>0.000805</td>\n",
       "      <td>0.000792</td>\n",
       "      <td>0.000879</td>\n",
       "      <td>0.001065</td>\n",
       "      <td>...</td>\n",
       "      <td>0.000742</td>\n",
       "      <td>0.000499</td>\n",
       "      <td>0.000521</td>\n",
       "      <td>0.000987</td>\n",
       "      <td>0.000840</td>\n",
       "      <td>0.000659</td>\n",
       "      <td>0.000665</td>\n",
       "      <td>0.000800</td>\n",
       "      <td>0.000842</td>\n",
       "      <td>0.000784</td>\n",
       "    </tr>\n",
       "    <tr>\n",
       "      <th>Smoke</th>\n",
       "      <td>0.001302</td>\n",
       "      <td>0.001103</td>\n",
       "      <td>0.004250</td>\n",
       "      <td>0.001177</td>\n",
       "      <td>0.001142</td>\n",
       "      <td>0.001013</td>\n",
       "      <td>0.000931</td>\n",
       "      <td>0.000910</td>\n",
       "      <td>0.001143</td>\n",
       "      <td>0.001072</td>\n",
       "      <td>...</td>\n",
       "      <td>0.001014</td>\n",
       "      <td>0.000768</td>\n",
       "      <td>0.000828</td>\n",
       "      <td>0.001207</td>\n",
       "      <td>0.000862</td>\n",
       "      <td>0.001143</td>\n",
       "      <td>0.000557</td>\n",
       "      <td>0.000944</td>\n",
       "      <td>0.001153</td>\n",
       "      <td>0.001119</td>\n",
       "    </tr>\n",
       "    <tr>\n",
       "      <th>Games</th>\n",
       "      <td>0.001282</td>\n",
       "      <td>0.000889</td>\n",
       "      <td>0.001177</td>\n",
       "      <td>0.005442</td>\n",
       "      <td>0.003231</td>\n",
       "      <td>0.001334</td>\n",
       "      <td>0.003145</td>\n",
       "      <td>0.001475</td>\n",
       "      <td>0.003245</td>\n",
       "      <td>0.004660</td>\n",
       "      <td>...</td>\n",
       "      <td>0.002449</td>\n",
       "      <td>0.003194</td>\n",
       "      <td>0.003767</td>\n",
       "      <td>0.002530</td>\n",
       "      <td>0.002606</td>\n",
       "      <td>0.002537</td>\n",
       "      <td>0.002336</td>\n",
       "      <td>0.002182</td>\n",
       "      <td>0.002971</td>\n",
       "      <td>0.002615</td>\n",
       "    </tr>\n",
       "    <tr>\n",
       "      <th>Books</th>\n",
       "      <td>0.001136</td>\n",
       "      <td>0.000751</td>\n",
       "      <td>0.001142</td>\n",
       "      <td>0.003231</td>\n",
       "      <td>0.003616</td>\n",
       "      <td>0.001162</td>\n",
       "      <td>0.002415</td>\n",
       "      <td>0.001291</td>\n",
       "      <td>0.002585</td>\n",
       "      <td>0.004015</td>\n",
       "      <td>...</td>\n",
       "      <td>0.002073</td>\n",
       "      <td>0.002178</td>\n",
       "      <td>0.002467</td>\n",
       "      <td>0.002297</td>\n",
       "      <td>0.002096</td>\n",
       "      <td>0.002166</td>\n",
       "      <td>0.001871</td>\n",
       "      <td>0.001572</td>\n",
       "      <td>0.002582</td>\n",
       "      <td>0.002051</td>\n",
       "    </tr>\n",
       "    <tr>\n",
       "      <th>Hshld</th>\n",
       "      <td>0.000811</td>\n",
       "      <td>0.000946</td>\n",
       "      <td>0.001013</td>\n",
       "      <td>0.001334</td>\n",
       "      <td>0.001162</td>\n",
       "      <td>0.001485</td>\n",
       "      <td>0.001103</td>\n",
       "      <td>0.000855</td>\n",
       "      <td>0.001164</td>\n",
       "      <td>0.001684</td>\n",
       "      <td>...</td>\n",
       "      <td>0.000876</td>\n",
       "      <td>0.000840</td>\n",
       "      <td>0.000929</td>\n",
       "      <td>0.001298</td>\n",
       "      <td>0.001047</td>\n",
       "      <td>0.000905</td>\n",
       "      <td>0.000808</td>\n",
       "      <td>0.000883</td>\n",
       "      <td>0.001101</td>\n",
       "      <td>0.001209</td>\n",
       "    </tr>\n",
       "    <tr>\n",
       "      <th>Clths</th>\n",
       "      <td>0.001103</td>\n",
       "      <td>0.000805</td>\n",
       "      <td>0.000931</td>\n",
       "      <td>0.003145</td>\n",
       "      <td>0.002415</td>\n",
       "      <td>0.001103</td>\n",
       "      <td>0.003730</td>\n",
       "      <td>0.000909</td>\n",
       "      <td>0.002493</td>\n",
       "      <td>0.003835</td>\n",
       "      <td>...</td>\n",
       "      <td>0.001724</td>\n",
       "      <td>0.001960</td>\n",
       "      <td>0.002445</td>\n",
       "      <td>0.002148</td>\n",
       "      <td>0.002294</td>\n",
       "      <td>0.001856</td>\n",
       "      <td>0.002270</td>\n",
       "      <td>0.002015</td>\n",
       "      <td>0.002412</td>\n",
       "      <td>0.001797</td>\n",
       "    </tr>\n",
       "    <tr>\n",
       "      <th>Hlth</th>\n",
       "      <td>0.000774</td>\n",
       "      <td>0.000792</td>\n",
       "      <td>0.000910</td>\n",
       "      <td>0.001475</td>\n",
       "      <td>0.001291</td>\n",
       "      <td>0.000855</td>\n",
       "      <td>0.000909</td>\n",
       "      <td>0.001594</td>\n",
       "      <td>0.001298</td>\n",
       "      <td>0.001455</td>\n",
       "      <td>...</td>\n",
       "      <td>0.001124</td>\n",
       "      <td>0.001227</td>\n",
       "      <td>0.001402</td>\n",
       "      <td>0.001129</td>\n",
       "      <td>0.001017</td>\n",
       "      <td>0.001195</td>\n",
       "      <td>0.000913</td>\n",
       "      <td>0.000862</td>\n",
       "      <td>0.001287</td>\n",
       "      <td>0.001259</td>\n",
       "    </tr>\n",
       "    <tr>\n",
       "      <th>Chems</th>\n",
       "      <td>0.001254</td>\n",
       "      <td>0.000879</td>\n",
       "      <td>0.001143</td>\n",
       "      <td>0.003245</td>\n",
       "      <td>0.002585</td>\n",
       "      <td>0.001164</td>\n",
       "      <td>0.002493</td>\n",
       "      <td>0.001298</td>\n",
       "      <td>0.003534</td>\n",
       "      <td>0.003632</td>\n",
       "      <td>...</td>\n",
       "      <td>0.001918</td>\n",
       "      <td>0.002261</td>\n",
       "      <td>0.002621</td>\n",
       "      <td>0.002475</td>\n",
       "      <td>0.002389</td>\n",
       "      <td>0.002013</td>\n",
       "      <td>0.001888</td>\n",
       "      <td>0.001810</td>\n",
       "      <td>0.002485</td>\n",
       "      <td>0.002143</td>\n",
       "    </tr>\n",
       "    <tr>\n",
       "      <th>Txtls</th>\n",
       "      <td>0.001570</td>\n",
       "      <td>0.001065</td>\n",
       "      <td>0.001072</td>\n",
       "      <td>0.004660</td>\n",
       "      <td>0.004015</td>\n",
       "      <td>0.001684</td>\n",
       "      <td>0.003835</td>\n",
       "      <td>0.001455</td>\n",
       "      <td>0.003632</td>\n",
       "      <td>0.007950</td>\n",
       "      <td>...</td>\n",
       "      <td>0.002481</td>\n",
       "      <td>0.002596</td>\n",
       "      <td>0.003278</td>\n",
       "      <td>0.003219</td>\n",
       "      <td>0.003124</td>\n",
       "      <td>0.002689</td>\n",
       "      <td>0.002869</td>\n",
       "      <td>0.002480</td>\n",
       "      <td>0.003379</td>\n",
       "      <td>0.002810</td>\n",
       "    </tr>\n",
       "    <tr>\n",
       "      <th>Cnstr</th>\n",
       "      <td>0.001210</td>\n",
       "      <td>0.000853</td>\n",
       "      <td>0.001254</td>\n",
       "      <td>0.003437</td>\n",
       "      <td>0.003047</td>\n",
       "      <td>0.001295</td>\n",
       "      <td>0.002786</td>\n",
       "      <td>0.001294</td>\n",
       "      <td>0.002987</td>\n",
       "      <td>0.004276</td>\n",
       "      <td>...</td>\n",
       "      <td>0.001918</td>\n",
       "      <td>0.002234</td>\n",
       "      <td>0.002698</td>\n",
       "      <td>0.002553</td>\n",
       "      <td>0.002523</td>\n",
       "      <td>0.002299</td>\n",
       "      <td>0.002099</td>\n",
       "      <td>0.002007</td>\n",
       "      <td>0.002744</td>\n",
       "      <td>0.002163</td>\n",
       "    </tr>\n",
       "    <tr>\n",
       "      <th>Steel</th>\n",
       "      <td>0.001160</td>\n",
       "      <td>0.000850</td>\n",
       "      <td>0.001331</td>\n",
       "      <td>0.004550</td>\n",
       "      <td>0.003479</td>\n",
       "      <td>0.001270</td>\n",
       "      <td>0.002990</td>\n",
       "      <td>0.001780</td>\n",
       "      <td>0.003896</td>\n",
       "      <td>0.004469</td>\n",
       "      <td>...</td>\n",
       "      <td>0.003093</td>\n",
       "      <td>0.003873</td>\n",
       "      <td>0.005108</td>\n",
       "      <td>0.002796</td>\n",
       "      <td>0.003119</td>\n",
       "      <td>0.003020</td>\n",
       "      <td>0.002346</td>\n",
       "      <td>0.002257</td>\n",
       "      <td>0.003242</td>\n",
       "      <td>0.003091</td>\n",
       "    </tr>\n",
       "    <tr>\n",
       "      <th>FabPr</th>\n",
       "      <td>0.001064</td>\n",
       "      <td>0.000808</td>\n",
       "      <td>0.001036</td>\n",
       "      <td>0.004038</td>\n",
       "      <td>0.003009</td>\n",
       "      <td>0.001226</td>\n",
       "      <td>0.002841</td>\n",
       "      <td>0.001366</td>\n",
       "      <td>0.003460</td>\n",
       "      <td>0.004171</td>\n",
       "      <td>...</td>\n",
       "      <td>0.002416</td>\n",
       "      <td>0.003104</td>\n",
       "      <td>0.004071</td>\n",
       "      <td>0.002658</td>\n",
       "      <td>0.002705</td>\n",
       "      <td>0.002509</td>\n",
       "      <td>0.002154</td>\n",
       "      <td>0.001965</td>\n",
       "      <td>0.002705</td>\n",
       "      <td>0.002444</td>\n",
       "    </tr>\n",
       "    <tr>\n",
       "      <th>ElcEq</th>\n",
       "      <td>0.001177</td>\n",
       "      <td>0.000925</td>\n",
       "      <td>0.001193</td>\n",
       "      <td>0.003663</td>\n",
       "      <td>0.002799</td>\n",
       "      <td>0.001253</td>\n",
       "      <td>0.002721</td>\n",
       "      <td>0.001366</td>\n",
       "      <td>0.003103</td>\n",
       "      <td>0.003870</td>\n",
       "      <td>...</td>\n",
       "      <td>0.002306</td>\n",
       "      <td>0.002810</td>\n",
       "      <td>0.003610</td>\n",
       "      <td>0.002536</td>\n",
       "      <td>0.002619</td>\n",
       "      <td>0.002343</td>\n",
       "      <td>0.002105</td>\n",
       "      <td>0.001891</td>\n",
       "      <td>0.002629</td>\n",
       "      <td>0.002411</td>\n",
       "    </tr>\n",
       "    <tr>\n",
       "      <th>Autos</th>\n",
       "      <td>0.001132</td>\n",
       "      <td>0.000769</td>\n",
       "      <td>0.000901</td>\n",
       "      <td>0.004433</td>\n",
       "      <td>0.003626</td>\n",
       "      <td>0.001404</td>\n",
       "      <td>0.003289</td>\n",
       "      <td>0.001295</td>\n",
       "      <td>0.003579</td>\n",
       "      <td>0.005311</td>\n",
       "      <td>...</td>\n",
       "      <td>0.002630</td>\n",
       "      <td>0.002903</td>\n",
       "      <td>0.003729</td>\n",
       "      <td>0.003079</td>\n",
       "      <td>0.003008</td>\n",
       "      <td>0.002614</td>\n",
       "      <td>0.002457</td>\n",
       "      <td>0.002239</td>\n",
       "      <td>0.003231</td>\n",
       "      <td>0.002701</td>\n",
       "    </tr>\n",
       "    <tr>\n",
       "      <th>Carry</th>\n",
       "      <td>0.001144</td>\n",
       "      <td>0.000927</td>\n",
       "      <td>0.001339</td>\n",
       "      <td>0.002972</td>\n",
       "      <td>0.002346</td>\n",
       "      <td>0.001182</td>\n",
       "      <td>0.002318</td>\n",
       "      <td>0.001289</td>\n",
       "      <td>0.002618</td>\n",
       "      <td>0.003307</td>\n",
       "      <td>...</td>\n",
       "      <td>0.001686</td>\n",
       "      <td>0.001872</td>\n",
       "      <td>0.002388</td>\n",
       "      <td>0.002321</td>\n",
       "      <td>0.002293</td>\n",
       "      <td>0.001890</td>\n",
       "      <td>0.001730</td>\n",
       "      <td>0.001900</td>\n",
       "      <td>0.002372</td>\n",
       "      <td>0.002214</td>\n",
       "    </tr>\n",
       "    <tr>\n",
       "      <th>Mines</th>\n",
       "      <td>0.000911</td>\n",
       "      <td>0.000768</td>\n",
       "      <td>0.001335</td>\n",
       "      <td>0.002846</td>\n",
       "      <td>0.002218</td>\n",
       "      <td>0.000884</td>\n",
       "      <td>0.001813</td>\n",
       "      <td>0.000882</td>\n",
       "      <td>0.003011</td>\n",
       "      <td>0.002768</td>\n",
       "      <td>...</td>\n",
       "      <td>0.001722</td>\n",
       "      <td>0.001899</td>\n",
       "      <td>0.002191</td>\n",
       "      <td>0.001814</td>\n",
       "      <td>0.001846</td>\n",
       "      <td>0.001879</td>\n",
       "      <td>0.001304</td>\n",
       "      <td>0.001555</td>\n",
       "      <td>0.001891</td>\n",
       "      <td>0.001537</td>\n",
       "    </tr>\n",
       "    <tr>\n",
       "      <th>Coal</th>\n",
       "      <td>0.001023</td>\n",
       "      <td>0.000447</td>\n",
       "      <td>0.001952</td>\n",
       "      <td>0.003495</td>\n",
       "      <td>0.002882</td>\n",
       "      <td>0.000728</td>\n",
       "      <td>0.002048</td>\n",
       "      <td>0.001137</td>\n",
       "      <td>0.003744</td>\n",
       "      <td>0.002998</td>\n",
       "      <td>...</td>\n",
       "      <td>0.001578</td>\n",
       "      <td>0.002193</td>\n",
       "      <td>0.002806</td>\n",
       "      <td>0.002144</td>\n",
       "      <td>0.002039</td>\n",
       "      <td>0.002923</td>\n",
       "      <td>0.000987</td>\n",
       "      <td>0.001216</td>\n",
       "      <td>0.002152</td>\n",
       "      <td>0.001598</td>\n",
       "    </tr>\n",
       "    <tr>\n",
       "      <th>Oil</th>\n",
       "      <td>0.000924</td>\n",
       "      <td>0.000660</td>\n",
       "      <td>0.001118</td>\n",
       "      <td>0.002067</td>\n",
       "      <td>0.001898</td>\n",
       "      <td>0.000675</td>\n",
       "      <td>0.001539</td>\n",
       "      <td>0.000864</td>\n",
       "      <td>0.002280</td>\n",
       "      <td>0.001987</td>\n",
       "      <td>...</td>\n",
       "      <td>0.001384</td>\n",
       "      <td>0.001515</td>\n",
       "      <td>0.001557</td>\n",
       "      <td>0.001500</td>\n",
       "      <td>0.001393</td>\n",
       "      <td>0.001629</td>\n",
       "      <td>0.001056</td>\n",
       "      <td>0.001128</td>\n",
       "      <td>0.001684</td>\n",
       "      <td>0.001473</td>\n",
       "    </tr>\n",
       "    <tr>\n",
       "      <th>Util</th>\n",
       "      <td>0.000719</td>\n",
       "      <td>0.000711</td>\n",
       "      <td>0.001106</td>\n",
       "      <td>0.000993</td>\n",
       "      <td>0.001013</td>\n",
       "      <td>0.000602</td>\n",
       "      <td>0.000806</td>\n",
       "      <td>0.000706</td>\n",
       "      <td>0.001010</td>\n",
       "      <td>0.001184</td>\n",
       "      <td>...</td>\n",
       "      <td>0.000746</td>\n",
       "      <td>0.000615</td>\n",
       "      <td>0.000700</td>\n",
       "      <td>0.000866</td>\n",
       "      <td>0.000711</td>\n",
       "      <td>0.000955</td>\n",
       "      <td>0.000524</td>\n",
       "      <td>0.000831</td>\n",
       "      <td>0.000895</td>\n",
       "      <td>0.000915</td>\n",
       "    </tr>\n",
       "    <tr>\n",
       "      <th>Telcm</th>\n",
       "      <td>0.000928</td>\n",
       "      <td>0.000742</td>\n",
       "      <td>0.001014</td>\n",
       "      <td>0.002449</td>\n",
       "      <td>0.002073</td>\n",
       "      <td>0.000876</td>\n",
       "      <td>0.001724</td>\n",
       "      <td>0.001124</td>\n",
       "      <td>0.001918</td>\n",
       "      <td>0.002481</td>\n",
       "      <td>...</td>\n",
       "      <td>0.002745</td>\n",
       "      <td>0.002414</td>\n",
       "      <td>0.002664</td>\n",
       "      <td>0.001569</td>\n",
       "      <td>0.001640</td>\n",
       "      <td>0.001511</td>\n",
       "      <td>0.001642</td>\n",
       "      <td>0.001287</td>\n",
       "      <td>0.001815</td>\n",
       "      <td>0.001675</td>\n",
       "    </tr>\n",
       "    <tr>\n",
       "      <th>Servs</th>\n",
       "      <td>0.000755</td>\n",
       "      <td>0.000499</td>\n",
       "      <td>0.000768</td>\n",
       "      <td>0.003194</td>\n",
       "      <td>0.002178</td>\n",
       "      <td>0.000840</td>\n",
       "      <td>0.001960</td>\n",
       "      <td>0.001227</td>\n",
       "      <td>0.002261</td>\n",
       "      <td>0.002596</td>\n",
       "      <td>...</td>\n",
       "      <td>0.002414</td>\n",
       "      <td>0.003766</td>\n",
       "      <td>0.004140</td>\n",
       "      <td>0.001649</td>\n",
       "      <td>0.001806</td>\n",
       "      <td>0.001716</td>\n",
       "      <td>0.001912</td>\n",
       "      <td>0.001344</td>\n",
       "      <td>0.002033</td>\n",
       "      <td>0.001953</td>\n",
       "    </tr>\n",
       "    <tr>\n",
       "      <th>BusEq</th>\n",
       "      <td>0.000728</td>\n",
       "      <td>0.000521</td>\n",
       "      <td>0.000828</td>\n",
       "      <td>0.003767</td>\n",
       "      <td>0.002467</td>\n",
       "      <td>0.000929</td>\n",
       "      <td>0.002445</td>\n",
       "      <td>0.001402</td>\n",
       "      <td>0.002621</td>\n",
       "      <td>0.003278</td>\n",
       "      <td>...</td>\n",
       "      <td>0.002664</td>\n",
       "      <td>0.004140</td>\n",
       "      <td>0.006079</td>\n",
       "      <td>0.001973</td>\n",
       "      <td>0.002234</td>\n",
       "      <td>0.002119</td>\n",
       "      <td>0.002221</td>\n",
       "      <td>0.001645</td>\n",
       "      <td>0.002325</td>\n",
       "      <td>0.002288</td>\n",
       "    </tr>\n",
       "    <tr>\n",
       "      <th>Paper</th>\n",
       "      <td>0.001120</td>\n",
       "      <td>0.000987</td>\n",
       "      <td>0.001207</td>\n",
       "      <td>0.002530</td>\n",
       "      <td>0.002297</td>\n",
       "      <td>0.001298</td>\n",
       "      <td>0.002148</td>\n",
       "      <td>0.001129</td>\n",
       "      <td>0.002475</td>\n",
       "      <td>0.003219</td>\n",
       "      <td>...</td>\n",
       "      <td>0.001569</td>\n",
       "      <td>0.001649</td>\n",
       "      <td>0.001973</td>\n",
       "      <td>0.002525</td>\n",
       "      <td>0.002078</td>\n",
       "      <td>0.001681</td>\n",
       "      <td>0.001624</td>\n",
       "      <td>0.001592</td>\n",
       "      <td>0.002157</td>\n",
       "      <td>0.001844</td>\n",
       "    </tr>\n",
       "    <tr>\n",
       "      <th>Trans</th>\n",
       "      <td>0.000937</td>\n",
       "      <td>0.000840</td>\n",
       "      <td>0.000862</td>\n",
       "      <td>0.002606</td>\n",
       "      <td>0.002096</td>\n",
       "      <td>0.001047</td>\n",
       "      <td>0.002294</td>\n",
       "      <td>0.001017</td>\n",
       "      <td>0.002389</td>\n",
       "      <td>0.003124</td>\n",
       "      <td>...</td>\n",
       "      <td>0.001640</td>\n",
       "      <td>0.001806</td>\n",
       "      <td>0.002234</td>\n",
       "      <td>0.002078</td>\n",
       "      <td>0.002745</td>\n",
       "      <td>0.001681</td>\n",
       "      <td>0.001843</td>\n",
       "      <td>0.001707</td>\n",
       "      <td>0.002155</td>\n",
       "      <td>0.001792</td>\n",
       "    </tr>\n",
       "    <tr>\n",
       "      <th>Whlsl</th>\n",
       "      <td>0.000961</td>\n",
       "      <td>0.000659</td>\n",
       "      <td>0.001143</td>\n",
       "      <td>0.002537</td>\n",
       "      <td>0.002166</td>\n",
       "      <td>0.000905</td>\n",
       "      <td>0.001856</td>\n",
       "      <td>0.001195</td>\n",
       "      <td>0.002013</td>\n",
       "      <td>0.002689</td>\n",
       "      <td>...</td>\n",
       "      <td>0.001511</td>\n",
       "      <td>0.001716</td>\n",
       "      <td>0.002119</td>\n",
       "      <td>0.001681</td>\n",
       "      <td>0.001681</td>\n",
       "      <td>0.002239</td>\n",
       "      <td>0.001392</td>\n",
       "      <td>0.001311</td>\n",
       "      <td>0.001970</td>\n",
       "      <td>0.001603</td>\n",
       "    </tr>\n",
       "    <tr>\n",
       "      <th>Rtail</th>\n",
       "      <td>0.000896</td>\n",
       "      <td>0.000665</td>\n",
       "      <td>0.000557</td>\n",
       "      <td>0.002336</td>\n",
       "      <td>0.001871</td>\n",
       "      <td>0.000808</td>\n",
       "      <td>0.002270</td>\n",
       "      <td>0.000913</td>\n",
       "      <td>0.001888</td>\n",
       "      <td>0.002869</td>\n",
       "      <td>...</td>\n",
       "      <td>0.001642</td>\n",
       "      <td>0.001912</td>\n",
       "      <td>0.002221</td>\n",
       "      <td>0.001624</td>\n",
       "      <td>0.001843</td>\n",
       "      <td>0.001392</td>\n",
       "      <td>0.002269</td>\n",
       "      <td>0.001561</td>\n",
       "      <td>0.001847</td>\n",
       "      <td>0.001375</td>\n",
       "    </tr>\n",
       "    <tr>\n",
       "      <th>Meals</th>\n",
       "      <td>0.000944</td>\n",
       "      <td>0.000800</td>\n",
       "      <td>0.000944</td>\n",
       "      <td>0.002182</td>\n",
       "      <td>0.001572</td>\n",
       "      <td>0.000883</td>\n",
       "      <td>0.002015</td>\n",
       "      <td>0.000862</td>\n",
       "      <td>0.001810</td>\n",
       "      <td>0.002480</td>\n",
       "      <td>...</td>\n",
       "      <td>0.001287</td>\n",
       "      <td>0.001344</td>\n",
       "      <td>0.001645</td>\n",
       "      <td>0.001592</td>\n",
       "      <td>0.001707</td>\n",
       "      <td>0.001311</td>\n",
       "      <td>0.001561</td>\n",
       "      <td>0.002030</td>\n",
       "      <td>0.001660</td>\n",
       "      <td>0.001356</td>\n",
       "    </tr>\n",
       "    <tr>\n",
       "      <th>Fin</th>\n",
       "      <td>0.001124</td>\n",
       "      <td>0.000842</td>\n",
       "      <td>0.001153</td>\n",
       "      <td>0.002971</td>\n",
       "      <td>0.002582</td>\n",
       "      <td>0.001101</td>\n",
       "      <td>0.002412</td>\n",
       "      <td>0.001287</td>\n",
       "      <td>0.002485</td>\n",
       "      <td>0.003379</td>\n",
       "      <td>...</td>\n",
       "      <td>0.001815</td>\n",
       "      <td>0.002033</td>\n",
       "      <td>0.002325</td>\n",
       "      <td>0.002157</td>\n",
       "      <td>0.002155</td>\n",
       "      <td>0.001970</td>\n",
       "      <td>0.001847</td>\n",
       "      <td>0.001660</td>\n",
       "      <td>0.003101</td>\n",
       "      <td>0.002183</td>\n",
       "    </tr>\n",
       "    <tr>\n",
       "      <th>Other</th>\n",
       "      <td>0.000874</td>\n",
       "      <td>0.000784</td>\n",
       "      <td>0.001119</td>\n",
       "      <td>0.002615</td>\n",
       "      <td>0.002051</td>\n",
       "      <td>0.001209</td>\n",
       "      <td>0.001797</td>\n",
       "      <td>0.001259</td>\n",
       "      <td>0.002143</td>\n",
       "      <td>0.002810</td>\n",
       "      <td>...</td>\n",
       "      <td>0.001675</td>\n",
       "      <td>0.001953</td>\n",
       "      <td>0.002288</td>\n",
       "      <td>0.001844</td>\n",
       "      <td>0.001792</td>\n",
       "      <td>0.001603</td>\n",
       "      <td>0.001375</td>\n",
       "      <td>0.001356</td>\n",
       "      <td>0.002183</td>\n",
       "      <td>0.002912</td>\n",
       "    </tr>\n",
       "  </tbody>\n",
       "</table>\n",
       "<p>30 rows × 30 columns</p>\n",
       "</div>"
      ],
      "text/plain": [
       "           Food      Beer     Smoke     Games     Books     Hshld     Clths  \\\n",
       "Food   0.001277  0.000945  0.001302  0.001282  0.001136  0.000811  0.001103   \n",
       "Beer   0.000945  0.001608  0.001103  0.000889  0.000751  0.000946  0.000805   \n",
       "Smoke  0.001302  0.001103  0.004250  0.001177  0.001142  0.001013  0.000931   \n",
       "Games  0.001282  0.000889  0.001177  0.005442  0.003231  0.001334  0.003145   \n",
       "Books  0.001136  0.000751  0.001142  0.003231  0.003616  0.001162  0.002415   \n",
       "Hshld  0.000811  0.000946  0.001013  0.001334  0.001162  0.001485  0.001103   \n",
       "Clths  0.001103  0.000805  0.000931  0.003145  0.002415  0.001103  0.003730   \n",
       "Hlth   0.000774  0.000792  0.000910  0.001475  0.001291  0.000855  0.000909   \n",
       "Chems  0.001254  0.000879  0.001143  0.003245  0.002585  0.001164  0.002493   \n",
       "Txtls  0.001570  0.001065  0.001072  0.004660  0.004015  0.001684  0.003835   \n",
       "Cnstr  0.001210  0.000853  0.001254  0.003437  0.003047  0.001295  0.002786   \n",
       "Steel  0.001160  0.000850  0.001331  0.004550  0.003479  0.001270  0.002990   \n",
       "FabPr  0.001064  0.000808  0.001036  0.004038  0.003009  0.001226  0.002841   \n",
       "ElcEq  0.001177  0.000925  0.001193  0.003663  0.002799  0.001253  0.002721   \n",
       "Autos  0.001132  0.000769  0.000901  0.004433  0.003626  0.001404  0.003289   \n",
       "Carry  0.001144  0.000927  0.001339  0.002972  0.002346  0.001182  0.002318   \n",
       "Mines  0.000911  0.000768  0.001335  0.002846  0.002218  0.000884  0.001813   \n",
       "Coal   0.001023  0.000447  0.001952  0.003495  0.002882  0.000728  0.002048   \n",
       "Oil    0.000924  0.000660  0.001118  0.002067  0.001898  0.000675  0.001539   \n",
       "Util   0.000719  0.000711  0.001106  0.000993  0.001013  0.000602  0.000806   \n",
       "Telcm  0.000928  0.000742  0.001014  0.002449  0.002073  0.000876  0.001724   \n",
       "Servs  0.000755  0.000499  0.000768  0.003194  0.002178  0.000840  0.001960   \n",
       "BusEq  0.000728  0.000521  0.000828  0.003767  0.002467  0.000929  0.002445   \n",
       "Paper  0.001120  0.000987  0.001207  0.002530  0.002297  0.001298  0.002148   \n",
       "Trans  0.000937  0.000840  0.000862  0.002606  0.002096  0.001047  0.002294   \n",
       "Whlsl  0.000961  0.000659  0.001143  0.002537  0.002166  0.000905  0.001856   \n",
       "Rtail  0.000896  0.000665  0.000557  0.002336  0.001871  0.000808  0.002270   \n",
       "Meals  0.000944  0.000800  0.000944  0.002182  0.001572  0.000883  0.002015   \n",
       "Fin    0.001124  0.000842  0.001153  0.002971  0.002582  0.001101  0.002412   \n",
       "Other  0.000874  0.000784  0.001119  0.002615  0.002051  0.001209  0.001797   \n",
       "\n",
       "           Hlth     Chems     Txtls  ...     Telcm     Servs     BusEq  \\\n",
       "Food   0.000774  0.001254  0.001570  ...  0.000928  0.000755  0.000728   \n",
       "Beer   0.000792  0.000879  0.001065  ...  0.000742  0.000499  0.000521   \n",
       "Smoke  0.000910  0.001143  0.001072  ...  0.001014  0.000768  0.000828   \n",
       "Games  0.001475  0.003245  0.004660  ...  0.002449  0.003194  0.003767   \n",
       "Books  0.001291  0.002585  0.004015  ...  0.002073  0.002178  0.002467   \n",
       "Hshld  0.000855  0.001164  0.001684  ...  0.000876  0.000840  0.000929   \n",
       "Clths  0.000909  0.002493  0.003835  ...  0.001724  0.001960  0.002445   \n",
       "Hlth   0.001594  0.001298  0.001455  ...  0.001124  0.001227  0.001402   \n",
       "Chems  0.001298  0.003534  0.003632  ...  0.001918  0.002261  0.002621   \n",
       "Txtls  0.001455  0.003632  0.007950  ...  0.002481  0.002596  0.003278   \n",
       "Cnstr  0.001294  0.002987  0.004276  ...  0.001918  0.002234  0.002698   \n",
       "Steel  0.001780  0.003896  0.004469  ...  0.003093  0.003873  0.005108   \n",
       "FabPr  0.001366  0.003460  0.004171  ...  0.002416  0.003104  0.004071   \n",
       "ElcEq  0.001366  0.003103  0.003870  ...  0.002306  0.002810  0.003610   \n",
       "Autos  0.001295  0.003579  0.005311  ...  0.002630  0.002903  0.003729   \n",
       "Carry  0.001289  0.002618  0.003307  ...  0.001686  0.001872  0.002388   \n",
       "Mines  0.000882  0.003011  0.002768  ...  0.001722  0.001899  0.002191   \n",
       "Coal   0.001137  0.003744  0.002998  ...  0.001578  0.002193  0.002806   \n",
       "Oil    0.000864  0.002280  0.001987  ...  0.001384  0.001515  0.001557   \n",
       "Util   0.000706  0.001010  0.001184  ...  0.000746  0.000615  0.000700   \n",
       "Telcm  0.001124  0.001918  0.002481  ...  0.002745  0.002414  0.002664   \n",
       "Servs  0.001227  0.002261  0.002596  ...  0.002414  0.003766  0.004140   \n",
       "BusEq  0.001402  0.002621  0.003278  ...  0.002664  0.004140  0.006079   \n",
       "Paper  0.001129  0.002475  0.003219  ...  0.001569  0.001649  0.001973   \n",
       "Trans  0.001017  0.002389  0.003124  ...  0.001640  0.001806  0.002234   \n",
       "Whlsl  0.001195  0.002013  0.002689  ...  0.001511  0.001716  0.002119   \n",
       "Rtail  0.000913  0.001888  0.002869  ...  0.001642  0.001912  0.002221   \n",
       "Meals  0.000862  0.001810  0.002480  ...  0.001287  0.001344  0.001645   \n",
       "Fin    0.001287  0.002485  0.003379  ...  0.001815  0.002033  0.002325   \n",
       "Other  0.001259  0.002143  0.002810  ...  0.001675  0.001953  0.002288   \n",
       "\n",
       "          Paper     Trans     Whlsl     Rtail     Meals       Fin     Other  \n",
       "Food   0.001120  0.000937  0.000961  0.000896  0.000944  0.001124  0.000874  \n",
       "Beer   0.000987  0.000840  0.000659  0.000665  0.000800  0.000842  0.000784  \n",
       "Smoke  0.001207  0.000862  0.001143  0.000557  0.000944  0.001153  0.001119  \n",
       "Games  0.002530  0.002606  0.002537  0.002336  0.002182  0.002971  0.002615  \n",
       "Books  0.002297  0.002096  0.002166  0.001871  0.001572  0.002582  0.002051  \n",
       "Hshld  0.001298  0.001047  0.000905  0.000808  0.000883  0.001101  0.001209  \n",
       "Clths  0.002148  0.002294  0.001856  0.002270  0.002015  0.002412  0.001797  \n",
       "Hlth   0.001129  0.001017  0.001195  0.000913  0.000862  0.001287  0.001259  \n",
       "Chems  0.002475  0.002389  0.002013  0.001888  0.001810  0.002485  0.002143  \n",
       "Txtls  0.003219  0.003124  0.002689  0.002869  0.002480  0.003379  0.002810  \n",
       "Cnstr  0.002553  0.002523  0.002299  0.002099  0.002007  0.002744  0.002163  \n",
       "Steel  0.002796  0.003119  0.003020  0.002346  0.002257  0.003242  0.003091  \n",
       "FabPr  0.002658  0.002705  0.002509  0.002154  0.001965  0.002705  0.002444  \n",
       "ElcEq  0.002536  0.002619  0.002343  0.002105  0.001891  0.002629  0.002411  \n",
       "Autos  0.003079  0.003008  0.002614  0.002457  0.002239  0.003231  0.002701  \n",
       "Carry  0.002321  0.002293  0.001890  0.001730  0.001900  0.002372  0.002214  \n",
       "Mines  0.001814  0.001846  0.001879  0.001304  0.001555  0.001891  0.001537  \n",
       "Coal   0.002144  0.002039  0.002923  0.000987  0.001216  0.002152  0.001598  \n",
       "Oil    0.001500  0.001393  0.001629  0.001056  0.001128  0.001684  0.001473  \n",
       "Util   0.000866  0.000711  0.000955  0.000524  0.000831  0.000895  0.000915  \n",
       "Telcm  0.001569  0.001640  0.001511  0.001642  0.001287  0.001815  0.001675  \n",
       "Servs  0.001649  0.001806  0.001716  0.001912  0.001344  0.002033  0.001953  \n",
       "BusEq  0.001973  0.002234  0.002119  0.002221  0.001645  0.002325  0.002288  \n",
       "Paper  0.002525  0.002078  0.001681  0.001624  0.001592  0.002157  0.001844  \n",
       "Trans  0.002078  0.002745  0.001681  0.001843  0.001707  0.002155  0.001792  \n",
       "Whlsl  0.001681  0.001681  0.002239  0.001392  0.001311  0.001970  0.001603  \n",
       "Rtail  0.001624  0.001843  0.001392  0.002269  0.001561  0.001847  0.001375  \n",
       "Meals  0.001592  0.001707  0.001311  0.001561  0.002030  0.001660  0.001356  \n",
       "Fin    0.002157  0.002155  0.001970  0.001847  0.001660  0.003101  0.002183  \n",
       "Other  0.001844  0.001792  0.001603  0.001375  0.001356  0.002183  0.002912  \n",
       "\n",
       "[30 rows x 30 columns]"
      ]
     },
     "execution_count": 32,
     "metadata": {},
     "output_type": "execute_result"
    }
   ],
   "source": [
    "cov()"
   ]
  },
  {
   "cell_type": "markdown",
   "metadata": {},
   "source": [
    "## Efficient Frotier Part II"
   ]
  },
  {
   "cell_type": "code",
   "execution_count": 35,
   "metadata": {},
   "outputs": [],
   "source": [
    "def portfolio_return(weights, returns):\n",
    "    \"\"\"\n",
    "    Weights -> Returns\n",
    "    \"\"\"\n",
    "    return weights.T @ returns\n",
    "\n",
    "def portfolio_vol(weights, covmat):\n",
    "    \"\"\"\n",
    "    Weights -> Vol\n",
    "    \"\"\"\n",
    "    return (weights.T @ covmat @ weights)**0.5"
   ]
  },
  {
   "cell_type": "code",
   "execution_count": 36,
   "metadata": {},
   "outputs": [
    {
     "data": {
      "text/plain": [
       "Books   -0.002780\n",
       "Beer     0.080598\n",
       "Fin      0.055166\n",
       "Games    0.096810\n",
       "dtype: float64"
      ]
     },
     "execution_count": 36,
     "metadata": {},
     "output_type": "execute_result"
    }
   ],
   "source": [
    "l = [\"Books\", \"Beer\", \"Fin\", \"Games\"]\n",
    "er[l]"
   ]
  },
  {
   "cell_type": "code",
   "execution_count": 39,
   "metadata": {},
   "outputs": [
    {
     "data": {
      "text/html": [
       "<div>\n",
       "<style scoped>\n",
       "    .dataframe tbody tr th:only-of-type {\n",
       "        vertical-align: middle;\n",
       "    }\n",
       "\n",
       "    .dataframe tbody tr th {\n",
       "        vertical-align: top;\n",
       "    }\n",
       "\n",
       "    .dataframe thead th {\n",
       "        text-align: right;\n",
       "    }\n",
       "</style>\n",
       "<table border=\"1\" class=\"dataframe\">\n",
       "  <thead>\n",
       "    <tr style=\"text-align: right;\">\n",
       "      <th></th>\n",
       "      <th>Books</th>\n",
       "      <th>Beer</th>\n",
       "      <th>Fin</th>\n",
       "      <th>Games</th>\n",
       "    </tr>\n",
       "  </thead>\n",
       "  <tbody>\n",
       "    <tr>\n",
       "      <th>Books</th>\n",
       "      <td>0.003616</td>\n",
       "      <td>0.000751</td>\n",
       "      <td>0.002582</td>\n",
       "      <td>0.003231</td>\n",
       "    </tr>\n",
       "    <tr>\n",
       "      <th>Beer</th>\n",
       "      <td>0.000751</td>\n",
       "      <td>0.001608</td>\n",
       "      <td>0.000842</td>\n",
       "      <td>0.000889</td>\n",
       "    </tr>\n",
       "    <tr>\n",
       "      <th>Fin</th>\n",
       "      <td>0.002582</td>\n",
       "      <td>0.000842</td>\n",
       "      <td>0.003101</td>\n",
       "      <td>0.002971</td>\n",
       "    </tr>\n",
       "    <tr>\n",
       "      <th>Games</th>\n",
       "      <td>0.003231</td>\n",
       "      <td>0.000889</td>\n",
       "      <td>0.002971</td>\n",
       "      <td>0.005442</td>\n",
       "    </tr>\n",
       "  </tbody>\n",
       "</table>\n",
       "</div>"
      ],
      "text/plain": [
       "          Books      Beer       Fin     Games\n",
       "Books  0.003616  0.000751  0.002582  0.003231\n",
       "Beer   0.000751  0.001608  0.000842  0.000889\n",
       "Fin    0.002582  0.000842  0.003101  0.002971\n",
       "Games  0.003231  0.000889  0.002971  0.005442"
      ]
     },
     "execution_count": 39,
     "metadata": {},
     "output_type": "execute_result"
    }
   ],
   "source": [
    "cov.loc[l, l]"
   ]
  },
  {
   "cell_type": "code",
   "execution_count": 40,
   "metadata": {},
   "outputs": [
    {
     "data": {
      "text/plain": [
       "0.057448599249889765"
      ]
     },
     "execution_count": 40,
     "metadata": {},
     "output_type": "execute_result"
    }
   ],
   "source": [
    "weights = np.repeat(1/4, 4)\n",
    "erk.portfolio_return(weights, er[l])"
   ]
  },
  {
   "cell_type": "code",
   "execution_count": 41,
   "metadata": {},
   "outputs": [
    {
     "data": {
      "text/plain": [
       "0.04763120089946021"
      ]
     },
     "execution_count": 41,
     "metadata": {},
     "output_type": "execute_result"
    }
   ],
   "source": [
    "erk.portfolio_vol(weights, cov.loc[l,l])"
   ]
  },
  {
   "cell_type": "markdown",
   "metadata": {},
   "source": [
    "## 2-asset Frontier"
   ]
  },
  {
   "cell_type": "code",
   "execution_count": 43,
   "metadata": {},
   "outputs": [],
   "source": [
    "l = [\"Books\", \"Games\"]"
   ]
  },
  {
   "cell_type": "code",
   "execution_count": 46,
   "metadata": {},
   "outputs": [
    {
     "data": {
      "text/plain": [
       "[array([0., 1.]),\n",
       " array([0.04166667, 0.95833333]),\n",
       " array([0.08333333, 0.91666667]),\n",
       " array([0.125, 0.875]),\n",
       " array([0.16666667, 0.83333333]),\n",
       " array([0.20833333, 0.79166667]),\n",
       " array([0.25, 0.75]),\n",
       " array([0.29166667, 0.70833333]),\n",
       " array([0.33333333, 0.66666667]),\n",
       " array([0.375, 0.625]),\n",
       " array([0.41666667, 0.58333333]),\n",
       " array([0.45833333, 0.54166667]),\n",
       " array([0.5, 0.5]),\n",
       " array([0.54166667, 0.45833333]),\n",
       " array([0.58333333, 0.41666667]),\n",
       " array([0.625, 0.375]),\n",
       " array([0.66666667, 0.33333333]),\n",
       " array([0.70833333, 0.29166667]),\n",
       " array([0.75, 0.25]),\n",
       " array([0.79166667, 0.20833333]),\n",
       " array([0.83333333, 0.16666667]),\n",
       " array([0.875, 0.125]),\n",
       " array([0.91666667, 0.08333333]),\n",
       " array([0.95833333, 0.04166667]),\n",
       " array([1., 0.])]"
      ]
     },
     "execution_count": 46,
     "metadata": {},
     "output_type": "execute_result"
    }
   ],
   "source": [
    "n_points = 25\n",
    "weights = [np.array([w, 1-w]) for w in np.linspace(0, 1, n_points)]\n",
    "weights"
   ]
  },
  {
   "cell_type": "code",
   "execution_count": 50,
   "metadata": {},
   "outputs": [],
   "source": [
    "rets = [erk.portfolio_return(w, er[l]) for w in weights]\n",
    "vols = [erk.portfolio_vol(w, cov.loc[l,l]) for w in weights]\n",
    "ef = pd.DataFrame({\"Returns\": rets, \"Vol\": vols})"
   ]
  },
  {
   "cell_type": "code",
   "execution_count": 72,
   "metadata": {
    "scrolled": true
   },
   "outputs": [
    {
     "data": {
      "text/plain": [
       "<AxesSubplot:xlabel='Vol', ylabel='Returns'>"
      ]
     },
     "execution_count": 72,
     "metadata": {},
     "output_type": "execute_result"
    },
    {
     "data": {
      "image/png": "[encoded data removed]",
      "text/plain": [
       "<Figure size 432x288 with 1 Axes>"
      ]
     },
     "metadata": {
      "needs_background": "light"
     },
     "output_type": "display_data"
    }
   ],
   "source": [
    "ef.plot.scatter(x=\"Vol\", y=\"Returns\")"
   ]
  },
  {
   "cell_type": "code",
   "execution_count": 71,
   "metadata": {},
   "outputs": [
    {
     "data": {
      "text/plain": [
       "(0.0, 0.1)"
      ]
     },
     "execution_count": 71,
     "metadata": {},
     "output_type": "execute_result"
    },
    {
     "data": {
      "image/png": "[encoded data removed]",
      "text/plain": [
       "<Figure size 864x360 with 1 Axes>"
      ]
     },
     "metadata": {
      "needs_background": "light"
     },
     "output_type": "display_data"
    }
   ],
   "source": [
    "ef.plot.line(x=\"Vol\", y=\"Returns\", style=\"--\", figsize=(12,5)).set_xlim(left=0, right=0.1)"
   ]
  },
  {
   "cell_type": "markdown",
   "metadata": {},
   "source": [
    "## N-Asset Efficient Frontier"
   ]
  },
  {
   "cell_type": "code",
   "execution_count": 2,
   "metadata": {},
   "outputs": [
    {
     "name": "stdout",
     "output_type": "stream",
     "text": [
      "The autoreload extension is already loaded. To reload it, use:\n",
      "  %reload_ext autoreload\n"
     ]
    }
   ],
   "source": [
    "%load_ext autoreload\n",
    "%autoreload 2\n",
    "import edhec_risk_kit_2 as erk\n",
    "\n",
    "ind = erk.get_ind_returns()\n",
    "er = erk.annualize_rets(ind[\"2000\":], 12)\n",
    "cov = ind[\"2000\":].cov()"
   ]
  },
  {
   "cell_type": "markdown",
   "metadata": {},
   "source": [
    "```python\n",
    "def optimal_weights(n_points, er, cov):\n",
    "    \"\"\"\n",
    "    list of weights to run the potimizer on to minimize the vol\n",
    "    \"\"\"\n",
    "    target_rs = np.linspace(er.min(), er.max(), n_points)\n",
    "    weights = [minimize_vol(target_return, er, cov) for target_return in target_rs]\n",
    "    return weights\n",
    "\n",
    "def plot_ef(n_points, er, cov, style=\".-\"):\n",
    "    \"\"\"\n",
    "    Plots the N-asset efficient frontier\n",
    "    \"\"\"\n",
    "    weights = optimal_weights(n_points, er, cov) ## 목표 수익률을 입력했을 때, 가장 낮은 변동성을 가지는 weights를 반환\n",
    "    rets = [portfolio_return(w, er) for w in weights]\n",
    "    vols = [portfolio_vol(w, cov) for w in weights]\n",
    "    ef = pd.DataFrame({\n",
    "        \"Returns\": rets,\n",
    "        \"Volatility\": vols})\n",
    "    return ef.plot.line(x=\"Volatility\", y=\"Returns\", style=style)\n",
    "```\n",
    "\n",
    "N개 asset을 다루려면 weights 변수만 바꿔주면 됨."
   ]
  },
  {
   "cell_type": "code",
   "execution_count": 7,
   "metadata": {},
   "outputs": [],
   "source": [
    "from scipy.optimize import minimize\n",
    "import pandas as pd\n",
    "import numpy as np"
   ]
  },
  {
   "cell_type": "code",
   "execution_count": 16,
   "metadata": {},
   "outputs": [
    {
     "data": {
      "text/plain": [
       "<AxesSubplot:xlabel='Volatility'>"
      ]
     },
     "execution_count": 16,
     "metadata": {},
     "output_type": "execute_result"
    },
    {
     "data": {
      "image/png": "[encoded data removed]",
      "text/plain": [
       "<Figure size 432x288 with 1 Axes>"
      ]
     },
     "metadata": {
      "needs_background": "light"
     },
     "output_type": "display_data"
    }
   ],
   "source": [
    "l = [\"Beer\", \"Games\"]\n",
    "erk.plot_ef2(20, er[l], cov.loc[l,l])"
   ]
  },
  {
   "cell_type": "code",
   "execution_count": 19,
   "metadata": {},
   "outputs": [],
   "source": [
    "def minimize_vol(target_return, er, cov):\n",
    "    \"\"\"\n",
    "    targer_return -> weights\n",
    "    \"\"\"\n",
    "    n = er.shape[0]\n",
    "    init_guess = np.repeat(1/n, n)  ## 초기 조건을 equal weights로 설정\n",
    "    bounds = ((0.0, 1.0),)*n  ## 각각의 항목의 한계(0부터 1사이)\n",
    "    return_is_target = {    ## 수익률이 목표수익률과 같아야 함\n",
    "        'type': 'eq',\n",
    "        'args': (er,),\n",
    "        'fun': lambda weights, er: target_return - erk.portfolio_return(weights, er)\n",
    "    }\n",
    "    weights_sum_to_1 = {  ## 모든 weights의 합은 1\n",
    "        'type':'eq',\n",
    "        'fun': lambda weights: np.sum(weights) - 1\n",
    "    }\n",
    "    results = minimize(erk.portfolio_vol, init_guess,\n",
    "                      args=(cov,), method=\"SLSQP\",\n",
    "                      options={'disp': False},\n",
    "                       constraints=(return_is_target, weights_sum_to_1),\n",
    "                       bounds=bounds\n",
    "                      )\n",
    "    return results.x"
   ]
  },
  {
   "cell_type": "code",
   "execution_count": 23,
   "metadata": {},
   "outputs": [
    {
     "data": {
      "text/plain": [
       "0.04007791236776678"
      ]
     },
     "execution_count": 23,
     "metadata": {},
     "output_type": "execute_result"
    }
   ],
   "source": [
    "w085 = minimize_vol(0.085, er[l], cov.loc[l, l])  ## 기대수익률이 0.085일 때 weight\n",
    "vol085 = erk.portfolio_vol(w085, cov.loc[l, l])  ## 그 wegihts에서 vol\n",
    "vol085"
   ]
  },
  {
   "cell_type": "code",
   "execution_count": 24,
   "metadata": {},
   "outputs": [
    {
     "data": {
      "text/plain": [
       "array([0.72848825, 0.27151175])"
      ]
     },
     "execution_count": 24,
     "metadata": {},
     "output_type": "execute_result"
    }
   ],
   "source": [
    "w085"
   ]
  },
  {
   "cell_type": "code",
   "execution_count": 29,
   "metadata": {},
   "outputs": [
    {
     "data": {
      "text/plain": [
       "<AxesSubplot:xlabel='Volatility'>"
      ]
     },
     "execution_count": 29,
     "metadata": {},
     "output_type": "execute_result"
    },
    {
     "data": {
      "image/png": "[encoded data removed]",
      "text/plain": [
       "<Figure size 432x288 with 1 Axes>"
      ]
     },
     "metadata": {
      "needs_background": "light"
     },
     "output_type": "display_data"
    }
   ],
   "source": [
    "l = [\"Games\", \"Fin\", \"Books\", \"Beer\"]\n",
    "erk.plot_ef(25, er[l], cov.loc[l,l])"
   ]
  },
  {
   "cell_type": "code",
   "execution_count": 1,
   "metadata": {},
   "outputs": [],
   "source": [
    "%load_ext autoreload\n",
    "%autoreload 2\n",
    "import edhec_risk_kit_2 as erk\n",
    "\n",
    "ind = erk.get_ind_returns()\n",
    "er = erk.annualize_rets(ind[\"1996\":\"2000\"], 12)\n",
    "cov = ind[\"1996\":\"2000\"].cov()"
   ]
  },
  {
   "cell_type": "code",
   "execution_count": 22,
   "metadata": {},
   "outputs": [],
   "source": [
    "from scipy.optimize import minimize\n",
    "import pandas as pd\n",
    "import numpy as np\n",
    "\n",
    "def msr(riskfree_rate, er, cov):\n",
    "    \"\"\"\n",
    "    Riskfree rate, er, covmat -> Weights\n",
    "    \"\"\"\n",
    "    n = er.shape[0]\n",
    "    init_guess = np.repeat(1/n, n)\n",
    "    bounds = ((0.0, 1.0),)*n\n",
    "    weights_sum_to_1 = {\n",
    "        'type': 'eq',\n",
    "        'fun': lambda weights: np.sum(weights) - 1\n",
    "    }\n",
    "    \n",
    "    def neg_sharpe_ratio(weights, riskfree_rate, cov, er):\n",
    "        \"\"\"\n",
    "        Returns the negative of the sharpe ratio, given weights\n",
    "        \"\"\"\n",
    "        r = erk.portfolio_return(weights, er)\n",
    "        vol = erk.portfolio_vol(weights, cov)\n",
    "        return -(r - riskfree_rate)/vol\n",
    "    \n",
    "    results = minimize(neg_sharpe_ratio, init_guess,\n",
    "                       args=(riskfree_rate, cov, er), method=\"SLSQP\",\n",
    "                       options={'disp': False},\n",
    "                       constraints=(weights_sum_to_1),\n",
    "                       bounds=bounds\n",
    "                      )\n",
    "    return results.x"
   ]
  },
  {
   "cell_type": "code",
   "execution_count": 23,
   "metadata": {},
   "outputs": [
    {
     "data": {
      "text/plain": [
       "[<matplotlib.lines.Line2D at 0x7f8d27130ca0>]"
      ]
     },
     "execution_count": 23,
     "metadata": {},
     "output_type": "execute_result"
    },
    {
     "data": {
      "image/png": "[encoded data removed]",
      "text/plain": [
       "<Figure size 432x288 with 1 Axes>"
      ]
     },
     "metadata": {
      "needs_background": "light"
     },
     "output_type": "display_data"
    }
   ],
   "source": [
    "ax = erk.plot_ef(20, er, cov)\n",
    "ax.set_xlim(left=0)\n",
    "rf = 0.1\n",
    "w_msr = msr(rf, er, cov)\n",
    "r_msr = erk.portfolio_return(w_msr, er)\n",
    "vol_msr = erk.portfolio_vol(w_msr, cov)\n",
    "\n",
    "# Add CML\n",
    "cml_x = [0, vol_msr]\n",
    "cml_y = [rf, r_msr]\n",
    "ax.plot(cml_x, cml_y, color=\"green\", marker=\"o\", linestyle=\"dashed\")"
   ]
  },
  {
   "cell_type": "code",
   "execution_count": 25,
   "metadata": {},
   "outputs": [
    {
     "data": {
      "text/plain": [
       "<AxesSubplot:xlabel='Volatility'>"
      ]
     },
     "execution_count": 25,
     "metadata": {},
     "output_type": "execute_result"
    },
    {
     "data": {
      "image/png": "[encoded data removed]",
      "text/plain": [
       "<Figure size 432x288 with 1 Axes>"
      ]
     },
     "metadata": {
      "needs_background": "light"
     },
     "output_type": "display_data"
    }
   ],
   "source": [
    "erk.plot_ef(20, er, cov, show_cml=True, riskfree_rate=0.1)"
   ]
  },
  {
   "cell_type": "code",
   "execution_count": 40,
   "metadata": {},
   "outputs": [
    {
     "data": {
      "text/plain": [
       "Index(['Food', 'Beer', 'Smoke', 'Games', 'Books', 'Hshld', 'Clths', 'Hlth',\n",
       "       'Chems', 'Txtls', 'Cnstr', 'Steel', 'FabPr', 'ElcEq', 'Autos', 'Carry',\n",
       "       'Mines', 'Coal', 'Oil', 'Util', 'Telcm', 'Servs', 'BusEq', 'Paper',\n",
       "       'Trans', 'Whlsl', 'Rtail', 'Meals', 'Fin', 'Other'],\n",
       "      dtype='object')"
      ]
     },
     "execution_count": 40,
     "metadata": {},
     "output_type": "execute_result"
    }
   ],
   "source": [
    "l = [\"Food\", \"Steel\"]\n",
    "ind.columns"
   ]
  },
  {
   "cell_type": "code",
   "execution_count": 41,
   "metadata": {},
   "outputs": [
    {
     "data": {
      "text/plain": [
       "array([0.75040363, 0.24959637])"
      ]
     },
     "execution_count": 41,
     "metadata": {},
     "output_type": "execute_result"
    }
   ],
   "source": [
    "erk.msr(0.1, er[l], cov.loc[l,l])"
   ]
  },
  {
   "cell_type": "code",
   "execution_count": 34,
   "metadata": {},
   "outputs": [
    {
     "data": {
      "text/plain": [
       "Food     0.116799\n",
       "Steel    0.115809\n",
       "dtype: float64"
      ]
     },
     "execution_count": 34,
     "metadata": {},
     "output_type": "execute_result"
    }
   ],
   "source": [
    "er[l]"
   ]
  },
  {
   "cell_type": "code",
   "execution_count": 45,
   "metadata": {},
   "outputs": [
    {
     "data": {
      "text/plain": [
       "array([0.7276134, 0.2723866])"
      ]
     },
     "execution_count": 45,
     "metadata": {},
     "output_type": "execute_result"
    }
   ],
   "source": [
    "erk.msr(0.1, np.array([.115, .115809]), cov.loc[l,l])"
   ]
  },
  {
   "cell_type": "code",
   "execution_count": 46,
   "metadata": {},
   "outputs": [
    {
     "data": {
      "text/plain": [
       "<AxesSubplot:xlabel='Volatility'>"
      ]
     },
     "execution_count": 46,
     "metadata": {},
     "output_type": "execute_result"
    },
    {
     "data": {
      "image/png": "[encoded data removed]",
      "text/plain": [
       "<Figure size 432x288 with 1 Axes>"
      ]
     },
     "metadata": {
      "needs_background": "light"
     },
     "output_type": "display_data"
    }
   ],
   "source": [
    "erk.plot_ef(20, er, cov, show_cml=True, riskfree_rate=0.1)"
   ]
  },
  {
   "cell_type": "markdown",
   "metadata": {},
   "source": [
    "정확한 returns 추정이 불가능하기 때문에 Markowitz 방법을 쓰기 어려움.\n",
    "\n",
    "GMV(Global minimum variance)는 returns 추정이 필요없음!\n",
    "\n",
    "왜냐하면 모든 returns이 동일하다고 가정하고 msr을 구하면 최소vol이 구해지기 때문.\n",
    "\n",
    "(실제로는 그냥 minimize vol만 하는 것)\n",
    "\n",
    "EW(Equal weights)는 그냥 동일한 가중치. 분석이 필요없음"
   ]
  },
  {
   "cell_type": "code",
   "execution_count": 47,
   "metadata": {},
   "outputs": [
    {
     "data": {
      "text/plain": [
       "<AxesSubplot:xlabel='Volatility'>"
      ]
     },
     "execution_count": 47,
     "metadata": {},
     "output_type": "execute_result"
    },
    {
     "data": {
      "image/png": "[encoded data removed]",
      "text/plain": [
       "<Figure size 432x288 with 1 Axes>"
      ]
     },
     "metadata": {
      "needs_background": "light"
     },
     "output_type": "display_data"
    }
   ],
   "source": [
    "erk.plot_ef(20, er, cov, show_cml=True, riskfree_rate=0.1, show_ew=True)"
   ]
  },
  {
   "cell_type": "code",
   "execution_count": 49,
   "metadata": {},
   "outputs": [
    {
     "data": {
      "text/plain": [
       "array([1, 1, 1, 1, 1, 1, 1, 1, 1, 1, 1, 1, 1, 1, 1, 1, 1, 1, 1, 1, 1, 1,\n",
       "       1, 1, 1, 1, 1, 1, 1, 1, 1, 1, 1, 1, 1, 1, 1, 1, 1, 1, 1, 1, 1, 1,\n",
       "       1, 1, 1, 1, 1, 1, 1, 1, 1, 1, 1, 1, 1, 1, 1, 1, 1, 1, 1, 1, 1, 1,\n",
       "       1, 1, 1, 1, 1, 1, 1, 1, 1, 1, 1, 1, 1, 1, 1, 1, 1, 1, 1, 1, 1, 1,\n",
       "       1, 1, 1, 1, 1, 1, 1, 1, 1, 1, 1, 1])"
      ]
     },
     "execution_count": 49,
     "metadata": {},
     "output_type": "execute_result"
    }
   ],
   "source": [
    "np.repeat(1, 100)"
   ]
  },
  {
   "cell_type": "code",
   "execution_count": 50,
   "metadata": {},
   "outputs": [
    {
     "data": {
      "text/plain": [
       "<AxesSubplot:xlabel='Volatility'>"
      ]
     },
     "execution_count": 50,
     "metadata": {},
     "output_type": "execute_result"
    },
    {
     "data": {
      "image/png": "[encoded data removed]",
      "text/plain": [
       "<Figure size 432x288 with 1 Axes>"
      ]
     },
     "metadata": {
      "needs_background": "light"
     },
     "output_type": "display_data"
    }
   ],
   "source": [
    "erk.plot_ef(20, er, cov, show_cml=True, riskfree_rate=0.1, show_ew=True, show_gmv=True)"
   ]
  },
  {
   "cell_type": "markdown",
   "metadata": {},
   "source": [
    "EW -> 아무것도 필요없음.\n",
    "\n",
    "GMV -> Minimum vol만 구함. (expect return 필요없음!)"
   ]
  },
  {
   "cell_type": "code",
   "execution_count": null,
   "metadata": {},
   "outputs": [],
   "source": []
  }
 ],
 "metadata": {
  "kernelspec": {
   "display_name": "Python 3",
   "language": "python",
   "name": "python3"
  },
  "language_info": {
   "codemirror_mode": {
    "name": "ipython",
    "version": 3
   },
   "file_extension": ".py",
   "mimetype": "text/x-python",
   "name": "python",
   "nbconvert_exporter": "python",
   "pygments_lexer": "ipython3",
   "version": "3.8.5"
  },
  "toc": {
   "base_numbering": 1,
   "nav_menu": {},
   "number_sections": true,
   "sideBar": true,
   "skip_h1_title": false,
   "title_cell": "Table of Contents",
   "title_sidebar": "Contents",
   "toc_cell": false,
   "toc_position": {},
   "toc_section_display": true,
   "toc_window_display": false
  },
  "varInspector": {
   "cols": {
    "lenName": 16,
    "lenType": 16,
    "lenVar": 40
   },
   "kernels_config": {
    "python": {
     "delete_cmd_postfix": "",
     "delete_cmd_prefix": "del ",
     "library": "var_list.py",
     "varRefreshCmd": "print(var_dic_list())"
    },
    "r": {
     "delete_cmd_postfix": ") ",
     "delete_cmd_prefix": "rm(",
     "library": "var_list.r",
     "varRefreshCmd": "cat(var_dic_list()) "
    }
   },
   "types_to_exclude": [
    "module",
    "function",
    "builtin_function_or_method",
    "instance",
    "_Feature"
   ],
   "window_display": false
  }
 },
 "nbformat": 4,
 "nbformat_minor": 5
}
